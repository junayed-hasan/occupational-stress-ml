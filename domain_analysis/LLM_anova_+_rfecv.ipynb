{
  "nbformat": 4,
  "nbformat_minor": 0,
  "metadata": {
    "colab": {
      "provenance": [],
      "gpuType": "T4"
    },
    "kernelspec": {
      "name": "python3",
      "display_name": "Python 3"
    },
    "language_info": {
      "name": "python"
    },
    "accelerator": "GPU"
  },
  "cells": [
    {
      "cell_type": "markdown",
      "source": [
        "# Data Loading"
      ],
      "metadata": {
        "id": "EiSaXiBexhNY"
      }
    },
    {
      "cell_type": "code",
      "execution_count": null,
      "metadata": {
        "id": "XcIDVUYIxdw0"
      },
      "outputs": [],
      "source": [
        "import pandas as pd\n",
        "import numpy as np\n",
        "import random\n",
        "\n",
        "# Set seeds\n",
        "np.random.seed(42)\n",
        "random.seed(42)\n",
        "\n",
        "df = pd.read_excel('DIB dataset and codebook.xlsx')"
      ]
    },
    {
      "cell_type": "markdown",
      "source": [
        "# Class Conversion\n",
        "## (Add all the target columns and save the values in another column)\n",
        "## (Convert those values between 0 and 1)\n",
        "## (If <= 0.5, assign 0, otherwise assign 1)\n",
        "## This will be our target column"
      ],
      "metadata": {
        "id": "FumhQCBuxjNw"
      }
    },
    {
      "cell_type": "code",
      "source": [
        "import pandas as pd\n",
        "from sklearn.preprocessing import MinMaxScaler\n",
        "\n",
        "# Assuming df is your dataframe and it already contains the OS columns\n",
        "\n",
        "# Step 1: Add all the OS columns\n",
        "df['Occupational_Stress_Sum'] = df[['OS1', 'OS2', 'OS3', 'OS4', 'OS5', 'OS6', 'OS7', 'OS8',\n",
        "                                    'OS9', 'OS10', 'OS11', 'OS12', 'OS13', 'OS14',\n",
        "                                    'OS15', 'OS16', 'OS17', 'OS18', 'OS19',\n",
        "                                    'OS20', 'OS21', 'OS22', 'OS23',\n",
        "                                    'OS24', 'OS25', 'OS26', 'OS27', 'OS28',\n",
        "                                    'OS29', 'OS30', 'OS31',\n",
        "                                    'OS32', 'OS33', 'OS34', 'OS35',\n",
        "                                    'OS36', 'OS37', 'OS38', 'OS39',\n",
        "                                    'OS40', 'OS41']].sum(axis=1)\n",
        "\n",
        "# Step 2: Normalize the summed values between 0 and 1\n",
        "scaler = MinMaxScaler()\n",
        "df['Occupational_Stress_Normalized'] = scaler.fit_transform(df[['Occupational_Stress_Sum']])\n",
        "\n",
        "# Step 3: Assign 0 or 1 based on the condition\n",
        "df['Occupational_Stress_Target'] = df['Occupational_Stress_Normalized'].apply(lambda x: 0 if x <= 0.5 else 1)\n",
        "\n",
        "# Optional: You might want to drop the intermediate columns if they are not needed\n",
        "# df = df.drop(columns=['Occupational_Stress_Sum', 'Occupational_Stress_Normalized'])\n",
        "\n"
      ],
      "metadata": {
        "id": "Lmi7mF3VxmwI"
      },
      "execution_count": null,
      "outputs": []
    },
    {
      "cell_type": "code",
      "source": [
        "df.drop(columns=['OS1', 'OS2', 'OS3', 'OS4', 'OS5', 'OS6', 'OS7', 'OS8', 'OS9', 'OS10', 'OS11', 'OS12', 'OS13', 'OS14', 'OS15', 'OS16', 'OS17', 'OS18', 'OS19', 'OS20', 'OS21', 'OS22', 'OS23', 'OS24', 'OS25', 'OS26', 'OS27', 'OS28', 'OS29', 'OS30', 'OS31', 'OS32', 'OS33', 'OS34', 'OS35', 'OS36', 'OS37', 'OS38', 'OS39', 'OS40', 'OS41'], inplace=True)\n",
        "df = df.drop(columns=['Occupational_Stress_Sum', 'Occupational_Stress_Normalized'])"
      ],
      "metadata": {
        "id": "TgTUeOf956Ia"
      },
      "execution_count": null,
      "outputs": []
    },
    {
      "cell_type": "code",
      "source": [
        "df.head()"
      ],
      "metadata": {
        "colab": {
          "base_uri": "https://localhost:8080/",
          "height": 272
        },
        "id": "zEC6AF-0lxr7",
        "outputId": "a4848911-be67-4321-dc71-431716d495d9"
      },
      "execution_count": null,
      "outputs": [
        {
          "output_type": "execute_result",
          "data": {
            "text/plain": [
              "   Age  Religion  Ethnicity  Marital status  Marriage period  No. of children  \\\n",
              "0    2         1          1               1                1                1   \n",
              "1    2         1          1               1                2                1   \n",
              "2    2         1          1               1                2                1   \n",
              "3    3         1          1               2                1                2   \n",
              "4    2         1          1               1                1                1   \n",
              "\n",
              "   Educational level  Employment status  Working period  Household income  \\\n",
              "0                  6                  1               4                 7   \n",
              "1                  6                  1               3                 4   \n",
              "2                  6                  1               5                 7   \n",
              "3                  5                  1               5                10   \n",
              "4                  6                  1               3                 5   \n",
              "\n",
              "   ...  JS34  JS35  JS36  JP1  JP2  JP3  JP4  JP5  JP6  \\\n",
              "0  ...     4     4     4    4    4    4    2    5    5   \n",
              "1  ...     3     5     5    5    5    4    5    5    5   \n",
              "2  ...     5     5     5    5    5    5    5    5    5   \n",
              "3  ...     5     5     5    2    2    2    4    5    5   \n",
              "4  ...     5     5     5    5    5    5    5    5    5   \n",
              "\n",
              "   Occupational_Stress_Target  \n",
              "0                           1  \n",
              "1                           1  \n",
              "2                           1  \n",
              "3                           1  \n",
              "4                           1  \n",
              "\n",
              "[5 rows x 54 columns]"
            ],
            "text/html": [
              "\n",
              "  <div id=\"df-11867788-1b32-4959-a7f0-b47688579433\" class=\"colab-df-container\">\n",
              "    <div>\n",
              "<style scoped>\n",
              "    .dataframe tbody tr th:only-of-type {\n",
              "        vertical-align: middle;\n",
              "    }\n",
              "\n",
              "    .dataframe tbody tr th {\n",
              "        vertical-align: top;\n",
              "    }\n",
              "\n",
              "    .dataframe thead th {\n",
              "        text-align: right;\n",
              "    }\n",
              "</style>\n",
              "<table border=\"1\" class=\"dataframe\">\n",
              "  <thead>\n",
              "    <tr style=\"text-align: right;\">\n",
              "      <th></th>\n",
              "      <th>Age</th>\n",
              "      <th>Religion</th>\n",
              "      <th>Ethnicity</th>\n",
              "      <th>Marital status</th>\n",
              "      <th>Marriage period</th>\n",
              "      <th>No. of children</th>\n",
              "      <th>Educational level</th>\n",
              "      <th>Employment status</th>\n",
              "      <th>Working period</th>\n",
              "      <th>Household income</th>\n",
              "      <th>...</th>\n",
              "      <th>JS34</th>\n",
              "      <th>JS35</th>\n",
              "      <th>JS36</th>\n",
              "      <th>JP1</th>\n",
              "      <th>JP2</th>\n",
              "      <th>JP3</th>\n",
              "      <th>JP4</th>\n",
              "      <th>JP5</th>\n",
              "      <th>JP6</th>\n",
              "      <th>Occupational_Stress_Target</th>\n",
              "    </tr>\n",
              "  </thead>\n",
              "  <tbody>\n",
              "    <tr>\n",
              "      <th>0</th>\n",
              "      <td>2</td>\n",
              "      <td>1</td>\n",
              "      <td>1</td>\n",
              "      <td>1</td>\n",
              "      <td>1</td>\n",
              "      <td>1</td>\n",
              "      <td>6</td>\n",
              "      <td>1</td>\n",
              "      <td>4</td>\n",
              "      <td>7</td>\n",
              "      <td>...</td>\n",
              "      <td>4</td>\n",
              "      <td>4</td>\n",
              "      <td>4</td>\n",
              "      <td>4</td>\n",
              "      <td>4</td>\n",
              "      <td>4</td>\n",
              "      <td>2</td>\n",
              "      <td>5</td>\n",
              "      <td>5</td>\n",
              "      <td>1</td>\n",
              "    </tr>\n",
              "    <tr>\n",
              "      <th>1</th>\n",
              "      <td>2</td>\n",
              "      <td>1</td>\n",
              "      <td>1</td>\n",
              "      <td>1</td>\n",
              "      <td>2</td>\n",
              "      <td>1</td>\n",
              "      <td>6</td>\n",
              "      <td>1</td>\n",
              "      <td>3</td>\n",
              "      <td>4</td>\n",
              "      <td>...</td>\n",
              "      <td>3</td>\n",
              "      <td>5</td>\n",
              "      <td>5</td>\n",
              "      <td>5</td>\n",
              "      <td>5</td>\n",
              "      <td>4</td>\n",
              "      <td>5</td>\n",
              "      <td>5</td>\n",
              "      <td>5</td>\n",
              "      <td>1</td>\n",
              "    </tr>\n",
              "    <tr>\n",
              "      <th>2</th>\n",
              "      <td>2</td>\n",
              "      <td>1</td>\n",
              "      <td>1</td>\n",
              "      <td>1</td>\n",
              "      <td>2</td>\n",
              "      <td>1</td>\n",
              "      <td>6</td>\n",
              "      <td>1</td>\n",
              "      <td>5</td>\n",
              "      <td>7</td>\n",
              "      <td>...</td>\n",
              "      <td>5</td>\n",
              "      <td>5</td>\n",
              "      <td>5</td>\n",
              "      <td>5</td>\n",
              "      <td>5</td>\n",
              "      <td>5</td>\n",
              "      <td>5</td>\n",
              "      <td>5</td>\n",
              "      <td>5</td>\n",
              "      <td>1</td>\n",
              "    </tr>\n",
              "    <tr>\n",
              "      <th>3</th>\n",
              "      <td>3</td>\n",
              "      <td>1</td>\n",
              "      <td>1</td>\n",
              "      <td>2</td>\n",
              "      <td>1</td>\n",
              "      <td>2</td>\n",
              "      <td>5</td>\n",
              "      <td>1</td>\n",
              "      <td>5</td>\n",
              "      <td>10</td>\n",
              "      <td>...</td>\n",
              "      <td>5</td>\n",
              "      <td>5</td>\n",
              "      <td>5</td>\n",
              "      <td>2</td>\n",
              "      <td>2</td>\n",
              "      <td>2</td>\n",
              "      <td>4</td>\n",
              "      <td>5</td>\n",
              "      <td>5</td>\n",
              "      <td>1</td>\n",
              "    </tr>\n",
              "    <tr>\n",
              "      <th>4</th>\n",
              "      <td>2</td>\n",
              "      <td>1</td>\n",
              "      <td>1</td>\n",
              "      <td>1</td>\n",
              "      <td>1</td>\n",
              "      <td>1</td>\n",
              "      <td>6</td>\n",
              "      <td>1</td>\n",
              "      <td>3</td>\n",
              "      <td>5</td>\n",
              "      <td>...</td>\n",
              "      <td>5</td>\n",
              "      <td>5</td>\n",
              "      <td>5</td>\n",
              "      <td>5</td>\n",
              "      <td>5</td>\n",
              "      <td>5</td>\n",
              "      <td>5</td>\n",
              "      <td>5</td>\n",
              "      <td>5</td>\n",
              "      <td>1</td>\n",
              "    </tr>\n",
              "  </tbody>\n",
              "</table>\n",
              "<p>5 rows × 54 columns</p>\n",
              "</div>\n",
              "    <div class=\"colab-df-buttons\">\n",
              "\n",
              "  <div class=\"colab-df-container\">\n",
              "    <button class=\"colab-df-convert\" onclick=\"convertToInteractive('df-11867788-1b32-4959-a7f0-b47688579433')\"\n",
              "            title=\"Convert this dataframe to an interactive table.\"\n",
              "            style=\"display:none;\">\n",
              "\n",
              "  <svg xmlns=\"http://www.w3.org/2000/svg\" height=\"24px\" viewBox=\"0 -960 960 960\">\n",
              "    <path d=\"M120-120v-720h720v720H120Zm60-500h600v-160H180v160Zm220 220h160v-160H400v160Zm0 220h160v-160H400v160ZM180-400h160v-160H180v160Zm440 0h160v-160H620v160ZM180-180h160v-160H180v160Zm440 0h160v-160H620v160Z\"/>\n",
              "  </svg>\n",
              "    </button>\n",
              "\n",
              "  <style>\n",
              "    .colab-df-container {\n",
              "      display:flex;\n",
              "      gap: 12px;\n",
              "    }\n",
              "\n",
              "    .colab-df-convert {\n",
              "      background-color: #E8F0FE;\n",
              "      border: none;\n",
              "      border-radius: 50%;\n",
              "      cursor: pointer;\n",
              "      display: none;\n",
              "      fill: #1967D2;\n",
              "      height: 32px;\n",
              "      padding: 0 0 0 0;\n",
              "      width: 32px;\n",
              "    }\n",
              "\n",
              "    .colab-df-convert:hover {\n",
              "      background-color: #E2EBFA;\n",
              "      box-shadow: 0px 1px 2px rgba(60, 64, 67, 0.3), 0px 1px 3px 1px rgba(60, 64, 67, 0.15);\n",
              "      fill: #174EA6;\n",
              "    }\n",
              "\n",
              "    .colab-df-buttons div {\n",
              "      margin-bottom: 4px;\n",
              "    }\n",
              "\n",
              "    [theme=dark] .colab-df-convert {\n",
              "      background-color: #3B4455;\n",
              "      fill: #D2E3FC;\n",
              "    }\n",
              "\n",
              "    [theme=dark] .colab-df-convert:hover {\n",
              "      background-color: #434B5C;\n",
              "      box-shadow: 0px 1px 3px 1px rgba(0, 0, 0, 0.15);\n",
              "      filter: drop-shadow(0px 1px 2px rgba(0, 0, 0, 0.3));\n",
              "      fill: #FFFFFF;\n",
              "    }\n",
              "  </style>\n",
              "\n",
              "    <script>\n",
              "      const buttonEl =\n",
              "        document.querySelector('#df-11867788-1b32-4959-a7f0-b47688579433 button.colab-df-convert');\n",
              "      buttonEl.style.display =\n",
              "        google.colab.kernel.accessAllowed ? 'block' : 'none';\n",
              "\n",
              "      async function convertToInteractive(key) {\n",
              "        const element = document.querySelector('#df-11867788-1b32-4959-a7f0-b47688579433');\n",
              "        const dataTable =\n",
              "          await google.colab.kernel.invokeFunction('convertToInteractive',\n",
              "                                                    [key], {});\n",
              "        if (!dataTable) return;\n",
              "\n",
              "        const docLinkHtml = 'Like what you see? Visit the ' +\n",
              "          '<a target=\"_blank\" href=https://colab.research.google.com/notebooks/data_table.ipynb>data table notebook</a>'\n",
              "          + ' to learn more about interactive tables.';\n",
              "        element.innerHTML = '';\n",
              "        dataTable['output_type'] = 'display_data';\n",
              "        await google.colab.output.renderOutput(dataTable, element);\n",
              "        const docLink = document.createElement('div');\n",
              "        docLink.innerHTML = docLinkHtml;\n",
              "        element.appendChild(docLink);\n",
              "      }\n",
              "    </script>\n",
              "  </div>\n",
              "\n",
              "\n",
              "<div id=\"df-1c34fae4-c730-4abc-9e74-6d2b0fddd65f\">\n",
              "  <button class=\"colab-df-quickchart\" onclick=\"quickchart('df-1c34fae4-c730-4abc-9e74-6d2b0fddd65f')\"\n",
              "            title=\"Suggest charts\"\n",
              "            style=\"display:none;\">\n",
              "\n",
              "<svg xmlns=\"http://www.w3.org/2000/svg\" height=\"24px\"viewBox=\"0 0 24 24\"\n",
              "     width=\"24px\">\n",
              "    <g>\n",
              "        <path d=\"M19 3H5c-1.1 0-2 .9-2 2v14c0 1.1.9 2 2 2h14c1.1 0 2-.9 2-2V5c0-1.1-.9-2-2-2zM9 17H7v-7h2v7zm4 0h-2V7h2v10zm4 0h-2v-4h2v4z\"/>\n",
              "    </g>\n",
              "</svg>\n",
              "  </button>\n",
              "\n",
              "<style>\n",
              "  .colab-df-quickchart {\n",
              "      --bg-color: #E8F0FE;\n",
              "      --fill-color: #1967D2;\n",
              "      --hover-bg-color: #E2EBFA;\n",
              "      --hover-fill-color: #174EA6;\n",
              "      --disabled-fill-color: #AAA;\n",
              "      --disabled-bg-color: #DDD;\n",
              "  }\n",
              "\n",
              "  [theme=dark] .colab-df-quickchart {\n",
              "      --bg-color: #3B4455;\n",
              "      --fill-color: #D2E3FC;\n",
              "      --hover-bg-color: #434B5C;\n",
              "      --hover-fill-color: #FFFFFF;\n",
              "      --disabled-bg-color: #3B4455;\n",
              "      --disabled-fill-color: #666;\n",
              "  }\n",
              "\n",
              "  .colab-df-quickchart {\n",
              "    background-color: var(--bg-color);\n",
              "    border: none;\n",
              "    border-radius: 50%;\n",
              "    cursor: pointer;\n",
              "    display: none;\n",
              "    fill: var(--fill-color);\n",
              "    height: 32px;\n",
              "    padding: 0;\n",
              "    width: 32px;\n",
              "  }\n",
              "\n",
              "  .colab-df-quickchart:hover {\n",
              "    background-color: var(--hover-bg-color);\n",
              "    box-shadow: 0 1px 2px rgba(60, 64, 67, 0.3), 0 1px 3px 1px rgba(60, 64, 67, 0.15);\n",
              "    fill: var(--button-hover-fill-color);\n",
              "  }\n",
              "\n",
              "  .colab-df-quickchart-complete:disabled,\n",
              "  .colab-df-quickchart-complete:disabled:hover {\n",
              "    background-color: var(--disabled-bg-color);\n",
              "    fill: var(--disabled-fill-color);\n",
              "    box-shadow: none;\n",
              "  }\n",
              "\n",
              "  .colab-df-spinner {\n",
              "    border: 2px solid var(--fill-color);\n",
              "    border-color: transparent;\n",
              "    border-bottom-color: var(--fill-color);\n",
              "    animation:\n",
              "      spin 1s steps(1) infinite;\n",
              "  }\n",
              "\n",
              "  @keyframes spin {\n",
              "    0% {\n",
              "      border-color: transparent;\n",
              "      border-bottom-color: var(--fill-color);\n",
              "      border-left-color: var(--fill-color);\n",
              "    }\n",
              "    20% {\n",
              "      border-color: transparent;\n",
              "      border-left-color: var(--fill-color);\n",
              "      border-top-color: var(--fill-color);\n",
              "    }\n",
              "    30% {\n",
              "      border-color: transparent;\n",
              "      border-left-color: var(--fill-color);\n",
              "      border-top-color: var(--fill-color);\n",
              "      border-right-color: var(--fill-color);\n",
              "    }\n",
              "    40% {\n",
              "      border-color: transparent;\n",
              "      border-right-color: var(--fill-color);\n",
              "      border-top-color: var(--fill-color);\n",
              "    }\n",
              "    60% {\n",
              "      border-color: transparent;\n",
              "      border-right-color: var(--fill-color);\n",
              "    }\n",
              "    80% {\n",
              "      border-color: transparent;\n",
              "      border-right-color: var(--fill-color);\n",
              "      border-bottom-color: var(--fill-color);\n",
              "    }\n",
              "    90% {\n",
              "      border-color: transparent;\n",
              "      border-bottom-color: var(--fill-color);\n",
              "    }\n",
              "  }\n",
              "</style>\n",
              "\n",
              "  <script>\n",
              "    async function quickchart(key) {\n",
              "      const quickchartButtonEl =\n",
              "        document.querySelector('#' + key + ' button');\n",
              "      quickchartButtonEl.disabled = true;  // To prevent multiple clicks.\n",
              "      quickchartButtonEl.classList.add('colab-df-spinner');\n",
              "      try {\n",
              "        const charts = await google.colab.kernel.invokeFunction(\n",
              "            'suggestCharts', [key], {});\n",
              "      } catch (error) {\n",
              "        console.error('Error during call to suggestCharts:', error);\n",
              "      }\n",
              "      quickchartButtonEl.classList.remove('colab-df-spinner');\n",
              "      quickchartButtonEl.classList.add('colab-df-quickchart-complete');\n",
              "    }\n",
              "    (() => {\n",
              "      let quickchartButtonEl =\n",
              "        document.querySelector('#df-1c34fae4-c730-4abc-9e74-6d2b0fddd65f button');\n",
              "      quickchartButtonEl.style.display =\n",
              "        google.colab.kernel.accessAllowed ? 'block' : 'none';\n",
              "    })();\n",
              "  </script>\n",
              "</div>\n",
              "\n",
              "    </div>\n",
              "  </div>\n"
            ],
            "application/vnd.google.colaboratory.intrinsic+json": {
              "type": "dataframe",
              "variable_name": "df"
            }
          },
          "metadata": {},
          "execution_count": 4
        }
      ]
    },
    {
      "cell_type": "code",
      "source": [
        "df.tail()"
      ],
      "metadata": {
        "colab": {
          "base_uri": "https://localhost:8080/",
          "height": 272
        },
        "id": "Ii7tRCcil1D0",
        "outputId": "4a02be81-93ff-4284-f3dc-c1ca08a17461"
      },
      "execution_count": null,
      "outputs": [
        {
          "output_type": "execute_result",
          "data": {
            "text/plain": [
              "     Age  Religion  Ethnicity  Marital status  Marriage period  \\\n",
              "304    4         1          1               2                2   \n",
              "305    2         1          1               1                2   \n",
              "306    2         1          1               1                3   \n",
              "307    3         1          1               2                1   \n",
              "308    2         1          1               1                2   \n",
              "\n",
              "     No. of children  Educational level  Employment status  Working period  \\\n",
              "304                2                  6                  1               5   \n",
              "305                2                  9                  1               5   \n",
              "306                1                  6                  1               5   \n",
              "307                3                  5                  1               5   \n",
              "308                1                  6                  1               5   \n",
              "\n",
              "     Household income  ...  JS34  JS35  JS36  JP1  JP2  JP3  JP4  JP5  JP6  \\\n",
              "304                 7  ...     4     4     4    5    5    5    5    5    5   \n",
              "305                 8  ...     2     2     2    4    4    2    4    4    4   \n",
              "306                 2  ...     4     5     4    5    5    5    5    5    5   \n",
              "307                 2  ...     2     2     2    4    4    4    4    4    5   \n",
              "308                 6  ...     4     4     4    4    4    4    5    5    5   \n",
              "\n",
              "     Occupational_Stress_Target  \n",
              "304                           1  \n",
              "305                           0  \n",
              "306                           1  \n",
              "307                           0  \n",
              "308                           0  \n",
              "\n",
              "[5 rows x 54 columns]"
            ],
            "text/html": [
              "\n",
              "  <div id=\"df-89667365-f6de-451c-b82b-5ee81f03bfbe\" class=\"colab-df-container\">\n",
              "    <div>\n",
              "<style scoped>\n",
              "    .dataframe tbody tr th:only-of-type {\n",
              "        vertical-align: middle;\n",
              "    }\n",
              "\n",
              "    .dataframe tbody tr th {\n",
              "        vertical-align: top;\n",
              "    }\n",
              "\n",
              "    .dataframe thead th {\n",
              "        text-align: right;\n",
              "    }\n",
              "</style>\n",
              "<table border=\"1\" class=\"dataframe\">\n",
              "  <thead>\n",
              "    <tr style=\"text-align: right;\">\n",
              "      <th></th>\n",
              "      <th>Age</th>\n",
              "      <th>Religion</th>\n",
              "      <th>Ethnicity</th>\n",
              "      <th>Marital status</th>\n",
              "      <th>Marriage period</th>\n",
              "      <th>No. of children</th>\n",
              "      <th>Educational level</th>\n",
              "      <th>Employment status</th>\n",
              "      <th>Working period</th>\n",
              "      <th>Household income</th>\n",
              "      <th>...</th>\n",
              "      <th>JS34</th>\n",
              "      <th>JS35</th>\n",
              "      <th>JS36</th>\n",
              "      <th>JP1</th>\n",
              "      <th>JP2</th>\n",
              "      <th>JP3</th>\n",
              "      <th>JP4</th>\n",
              "      <th>JP5</th>\n",
              "      <th>JP6</th>\n",
              "      <th>Occupational_Stress_Target</th>\n",
              "    </tr>\n",
              "  </thead>\n",
              "  <tbody>\n",
              "    <tr>\n",
              "      <th>304</th>\n",
              "      <td>4</td>\n",
              "      <td>1</td>\n",
              "      <td>1</td>\n",
              "      <td>2</td>\n",
              "      <td>2</td>\n",
              "      <td>2</td>\n",
              "      <td>6</td>\n",
              "      <td>1</td>\n",
              "      <td>5</td>\n",
              "      <td>7</td>\n",
              "      <td>...</td>\n",
              "      <td>4</td>\n",
              "      <td>4</td>\n",
              "      <td>4</td>\n",
              "      <td>5</td>\n",
              "      <td>5</td>\n",
              "      <td>5</td>\n",
              "      <td>5</td>\n",
              "      <td>5</td>\n",
              "      <td>5</td>\n",
              "      <td>1</td>\n",
              "    </tr>\n",
              "    <tr>\n",
              "      <th>305</th>\n",
              "      <td>2</td>\n",
              "      <td>1</td>\n",
              "      <td>1</td>\n",
              "      <td>1</td>\n",
              "      <td>2</td>\n",
              "      <td>2</td>\n",
              "      <td>9</td>\n",
              "      <td>1</td>\n",
              "      <td>5</td>\n",
              "      <td>8</td>\n",
              "      <td>...</td>\n",
              "      <td>2</td>\n",
              "      <td>2</td>\n",
              "      <td>2</td>\n",
              "      <td>4</td>\n",
              "      <td>4</td>\n",
              "      <td>2</td>\n",
              "      <td>4</td>\n",
              "      <td>4</td>\n",
              "      <td>4</td>\n",
              "      <td>0</td>\n",
              "    </tr>\n",
              "    <tr>\n",
              "      <th>306</th>\n",
              "      <td>2</td>\n",
              "      <td>1</td>\n",
              "      <td>1</td>\n",
              "      <td>1</td>\n",
              "      <td>3</td>\n",
              "      <td>1</td>\n",
              "      <td>6</td>\n",
              "      <td>1</td>\n",
              "      <td>5</td>\n",
              "      <td>2</td>\n",
              "      <td>...</td>\n",
              "      <td>4</td>\n",
              "      <td>5</td>\n",
              "      <td>4</td>\n",
              "      <td>5</td>\n",
              "      <td>5</td>\n",
              "      <td>5</td>\n",
              "      <td>5</td>\n",
              "      <td>5</td>\n",
              "      <td>5</td>\n",
              "      <td>1</td>\n",
              "    </tr>\n",
              "    <tr>\n",
              "      <th>307</th>\n",
              "      <td>3</td>\n",
              "      <td>1</td>\n",
              "      <td>1</td>\n",
              "      <td>2</td>\n",
              "      <td>1</td>\n",
              "      <td>3</td>\n",
              "      <td>5</td>\n",
              "      <td>1</td>\n",
              "      <td>5</td>\n",
              "      <td>2</td>\n",
              "      <td>...</td>\n",
              "      <td>2</td>\n",
              "      <td>2</td>\n",
              "      <td>2</td>\n",
              "      <td>4</td>\n",
              "      <td>4</td>\n",
              "      <td>4</td>\n",
              "      <td>4</td>\n",
              "      <td>4</td>\n",
              "      <td>5</td>\n",
              "      <td>0</td>\n",
              "    </tr>\n",
              "    <tr>\n",
              "      <th>308</th>\n",
              "      <td>2</td>\n",
              "      <td>1</td>\n",
              "      <td>1</td>\n",
              "      <td>1</td>\n",
              "      <td>2</td>\n",
              "      <td>1</td>\n",
              "      <td>6</td>\n",
              "      <td>1</td>\n",
              "      <td>5</td>\n",
              "      <td>6</td>\n",
              "      <td>...</td>\n",
              "      <td>4</td>\n",
              "      <td>4</td>\n",
              "      <td>4</td>\n",
              "      <td>4</td>\n",
              "      <td>4</td>\n",
              "      <td>4</td>\n",
              "      <td>5</td>\n",
              "      <td>5</td>\n",
              "      <td>5</td>\n",
              "      <td>0</td>\n",
              "    </tr>\n",
              "  </tbody>\n",
              "</table>\n",
              "<p>5 rows × 54 columns</p>\n",
              "</div>\n",
              "    <div class=\"colab-df-buttons\">\n",
              "\n",
              "  <div class=\"colab-df-container\">\n",
              "    <button class=\"colab-df-convert\" onclick=\"convertToInteractive('df-89667365-f6de-451c-b82b-5ee81f03bfbe')\"\n",
              "            title=\"Convert this dataframe to an interactive table.\"\n",
              "            style=\"display:none;\">\n",
              "\n",
              "  <svg xmlns=\"http://www.w3.org/2000/svg\" height=\"24px\" viewBox=\"0 -960 960 960\">\n",
              "    <path d=\"M120-120v-720h720v720H120Zm60-500h600v-160H180v160Zm220 220h160v-160H400v160Zm0 220h160v-160H400v160ZM180-400h160v-160H180v160Zm440 0h160v-160H620v160ZM180-180h160v-160H180v160Zm440 0h160v-160H620v160Z\"/>\n",
              "  </svg>\n",
              "    </button>\n",
              "\n",
              "  <style>\n",
              "    .colab-df-container {\n",
              "      display:flex;\n",
              "      gap: 12px;\n",
              "    }\n",
              "\n",
              "    .colab-df-convert {\n",
              "      background-color: #E8F0FE;\n",
              "      border: none;\n",
              "      border-radius: 50%;\n",
              "      cursor: pointer;\n",
              "      display: none;\n",
              "      fill: #1967D2;\n",
              "      height: 32px;\n",
              "      padding: 0 0 0 0;\n",
              "      width: 32px;\n",
              "    }\n",
              "\n",
              "    .colab-df-convert:hover {\n",
              "      background-color: #E2EBFA;\n",
              "      box-shadow: 0px 1px 2px rgba(60, 64, 67, 0.3), 0px 1px 3px 1px rgba(60, 64, 67, 0.15);\n",
              "      fill: #174EA6;\n",
              "    }\n",
              "\n",
              "    .colab-df-buttons div {\n",
              "      margin-bottom: 4px;\n",
              "    }\n",
              "\n",
              "    [theme=dark] .colab-df-convert {\n",
              "      background-color: #3B4455;\n",
              "      fill: #D2E3FC;\n",
              "    }\n",
              "\n",
              "    [theme=dark] .colab-df-convert:hover {\n",
              "      background-color: #434B5C;\n",
              "      box-shadow: 0px 1px 3px 1px rgba(0, 0, 0, 0.15);\n",
              "      filter: drop-shadow(0px 1px 2px rgba(0, 0, 0, 0.3));\n",
              "      fill: #FFFFFF;\n",
              "    }\n",
              "  </style>\n",
              "\n",
              "    <script>\n",
              "      const buttonEl =\n",
              "        document.querySelector('#df-89667365-f6de-451c-b82b-5ee81f03bfbe button.colab-df-convert');\n",
              "      buttonEl.style.display =\n",
              "        google.colab.kernel.accessAllowed ? 'block' : 'none';\n",
              "\n",
              "      async function convertToInteractive(key) {\n",
              "        const element = document.querySelector('#df-89667365-f6de-451c-b82b-5ee81f03bfbe');\n",
              "        const dataTable =\n",
              "          await google.colab.kernel.invokeFunction('convertToInteractive',\n",
              "                                                    [key], {});\n",
              "        if (!dataTable) return;\n",
              "\n",
              "        const docLinkHtml = 'Like what you see? Visit the ' +\n",
              "          '<a target=\"_blank\" href=https://colab.research.google.com/notebooks/data_table.ipynb>data table notebook</a>'\n",
              "          + ' to learn more about interactive tables.';\n",
              "        element.innerHTML = '';\n",
              "        dataTable['output_type'] = 'display_data';\n",
              "        await google.colab.output.renderOutput(dataTable, element);\n",
              "        const docLink = document.createElement('div');\n",
              "        docLink.innerHTML = docLinkHtml;\n",
              "        element.appendChild(docLink);\n",
              "      }\n",
              "    </script>\n",
              "  </div>\n",
              "\n",
              "\n",
              "<div id=\"df-c8becb83-81df-4966-af8d-6359a2b4a0fc\">\n",
              "  <button class=\"colab-df-quickchart\" onclick=\"quickchart('df-c8becb83-81df-4966-af8d-6359a2b4a0fc')\"\n",
              "            title=\"Suggest charts\"\n",
              "            style=\"display:none;\">\n",
              "\n",
              "<svg xmlns=\"http://www.w3.org/2000/svg\" height=\"24px\"viewBox=\"0 0 24 24\"\n",
              "     width=\"24px\">\n",
              "    <g>\n",
              "        <path d=\"M19 3H5c-1.1 0-2 .9-2 2v14c0 1.1.9 2 2 2h14c1.1 0 2-.9 2-2V5c0-1.1-.9-2-2-2zM9 17H7v-7h2v7zm4 0h-2V7h2v10zm4 0h-2v-4h2v4z\"/>\n",
              "    </g>\n",
              "</svg>\n",
              "  </button>\n",
              "\n",
              "<style>\n",
              "  .colab-df-quickchart {\n",
              "      --bg-color: #E8F0FE;\n",
              "      --fill-color: #1967D2;\n",
              "      --hover-bg-color: #E2EBFA;\n",
              "      --hover-fill-color: #174EA6;\n",
              "      --disabled-fill-color: #AAA;\n",
              "      --disabled-bg-color: #DDD;\n",
              "  }\n",
              "\n",
              "  [theme=dark] .colab-df-quickchart {\n",
              "      --bg-color: #3B4455;\n",
              "      --fill-color: #D2E3FC;\n",
              "      --hover-bg-color: #434B5C;\n",
              "      --hover-fill-color: #FFFFFF;\n",
              "      --disabled-bg-color: #3B4455;\n",
              "      --disabled-fill-color: #666;\n",
              "  }\n",
              "\n",
              "  .colab-df-quickchart {\n",
              "    background-color: var(--bg-color);\n",
              "    border: none;\n",
              "    border-radius: 50%;\n",
              "    cursor: pointer;\n",
              "    display: none;\n",
              "    fill: var(--fill-color);\n",
              "    height: 32px;\n",
              "    padding: 0;\n",
              "    width: 32px;\n",
              "  }\n",
              "\n",
              "  .colab-df-quickchart:hover {\n",
              "    background-color: var(--hover-bg-color);\n",
              "    box-shadow: 0 1px 2px rgba(60, 64, 67, 0.3), 0 1px 3px 1px rgba(60, 64, 67, 0.15);\n",
              "    fill: var(--button-hover-fill-color);\n",
              "  }\n",
              "\n",
              "  .colab-df-quickchart-complete:disabled,\n",
              "  .colab-df-quickchart-complete:disabled:hover {\n",
              "    background-color: var(--disabled-bg-color);\n",
              "    fill: var(--disabled-fill-color);\n",
              "    box-shadow: none;\n",
              "  }\n",
              "\n",
              "  .colab-df-spinner {\n",
              "    border: 2px solid var(--fill-color);\n",
              "    border-color: transparent;\n",
              "    border-bottom-color: var(--fill-color);\n",
              "    animation:\n",
              "      spin 1s steps(1) infinite;\n",
              "  }\n",
              "\n",
              "  @keyframes spin {\n",
              "    0% {\n",
              "      border-color: transparent;\n",
              "      border-bottom-color: var(--fill-color);\n",
              "      border-left-color: var(--fill-color);\n",
              "    }\n",
              "    20% {\n",
              "      border-color: transparent;\n",
              "      border-left-color: var(--fill-color);\n",
              "      border-top-color: var(--fill-color);\n",
              "    }\n",
              "    30% {\n",
              "      border-color: transparent;\n",
              "      border-left-color: var(--fill-color);\n",
              "      border-top-color: var(--fill-color);\n",
              "      border-right-color: var(--fill-color);\n",
              "    }\n",
              "    40% {\n",
              "      border-color: transparent;\n",
              "      border-right-color: var(--fill-color);\n",
              "      border-top-color: var(--fill-color);\n",
              "    }\n",
              "    60% {\n",
              "      border-color: transparent;\n",
              "      border-right-color: var(--fill-color);\n",
              "    }\n",
              "    80% {\n",
              "      border-color: transparent;\n",
              "      border-right-color: var(--fill-color);\n",
              "      border-bottom-color: var(--fill-color);\n",
              "    }\n",
              "    90% {\n",
              "      border-color: transparent;\n",
              "      border-bottom-color: var(--fill-color);\n",
              "    }\n",
              "  }\n",
              "</style>\n",
              "\n",
              "  <script>\n",
              "    async function quickchart(key) {\n",
              "      const quickchartButtonEl =\n",
              "        document.querySelector('#' + key + ' button');\n",
              "      quickchartButtonEl.disabled = true;  // To prevent multiple clicks.\n",
              "      quickchartButtonEl.classList.add('colab-df-spinner');\n",
              "      try {\n",
              "        const charts = await google.colab.kernel.invokeFunction(\n",
              "            'suggestCharts', [key], {});\n",
              "      } catch (error) {\n",
              "        console.error('Error during call to suggestCharts:', error);\n",
              "      }\n",
              "      quickchartButtonEl.classList.remove('colab-df-spinner');\n",
              "      quickchartButtonEl.classList.add('colab-df-quickchart-complete');\n",
              "    }\n",
              "    (() => {\n",
              "      let quickchartButtonEl =\n",
              "        document.querySelector('#df-c8becb83-81df-4966-af8d-6359a2b4a0fc button');\n",
              "      quickchartButtonEl.style.display =\n",
              "        google.colab.kernel.accessAllowed ? 'block' : 'none';\n",
              "    })();\n",
              "  </script>\n",
              "</div>\n",
              "\n",
              "    </div>\n",
              "  </div>\n"
            ],
            "application/vnd.google.colaboratory.intrinsic+json": {
              "type": "dataframe"
            }
          },
          "metadata": {},
          "execution_count": 5
        }
      ]
    },
    {
      "cell_type": "markdown",
      "source": [
        "# Data Inspection (Statistical)"
      ],
      "metadata": {
        "id": "Ak6wiokcxnOi"
      }
    },
    {
      "cell_type": "code",
      "source": [
        "import pandas as pd\n",
        "\n",
        "# Assuming df is your DataFrame after loading the data and preprocessing the target column\n",
        "\n",
        "# Step 1: Basic Structure\n",
        "print(\"DataFrame Shape (Rows, Columns):\", df.shape)\n",
        "print(\"\\nFirst 5 Rows of DataFrame:\")\n",
        "print(df.head())"
      ],
      "metadata": {
        "id": "b7IQiSOX0Qld",
        "colab": {
          "base_uri": "https://localhost:8080/"
        },
        "outputId": "cab7d7f6-038a-4b12-91f9-cc40a1fa732d"
      },
      "execution_count": null,
      "outputs": [
        {
          "output_type": "stream",
          "name": "stdout",
          "text": [
            "DataFrame Shape (Rows, Columns): (309, 54)\n",
            "\n",
            "First 5 Rows of DataFrame:\n",
            "   Age  Religion  Ethnicity  Marital status  Marriage period  No. of children  \\\n",
            "0    2         1          1               1                1                1   \n",
            "1    2         1          1               1                2                1   \n",
            "2    2         1          1               1                2                1   \n",
            "3    3         1          1               2                1                2   \n",
            "4    2         1          1               1                1                1   \n",
            "\n",
            "   Educational level  Employment status  Working period  Household income  \\\n",
            "0                  6                  1               4                 7   \n",
            "1                  6                  1               3                 4   \n",
            "2                  6                  1               5                 7   \n",
            "3                  5                  1               5                10   \n",
            "4                  6                  1               3                 5   \n",
            "\n",
            "   ...  JS34  JS35  JS36  JP1  JP2  JP3  JP4  JP5  JP6  \\\n",
            "0  ...     4     4     4    4    4    4    2    5    5   \n",
            "1  ...     3     5     5    5    5    4    5    5    5   \n",
            "2  ...     5     5     5    5    5    5    5    5    5   \n",
            "3  ...     5     5     5    2    2    2    4    5    5   \n",
            "4  ...     5     5     5    5    5    5    5    5    5   \n",
            "\n",
            "   Occupational_Stress_Target  \n",
            "0                           1  \n",
            "1                           1  \n",
            "2                           1  \n",
            "3                           1  \n",
            "4                           1  \n",
            "\n",
            "[5 rows x 54 columns]\n"
          ]
        }
      ]
    },
    {
      "cell_type": "code",
      "source": [
        "# Step 2: Descriptive Statistics\n",
        "print(\"\\nDescriptive Statistics for Numerical Columns:\")\n",
        "print(df.describe())"
      ],
      "metadata": {
        "colab": {
          "base_uri": "https://localhost:8080/"
        },
        "id": "_WuGRAkXmdWL",
        "outputId": "ef04c25d-d1c2-4e53-901b-8512cd968885"
      },
      "execution_count": null,
      "outputs": [
        {
          "output_type": "stream",
          "name": "stdout",
          "text": [
            "\n",
            "Descriptive Statistics for Numerical Columns:\n",
            "              Age    Religion   Ethnicity  Marital status  Marriage period  \\\n",
            "count  309.000000  309.000000  309.000000      309.000000       309.000000   \n",
            "mean     2.165049    1.084142    1.129450        1.100324         1.883495   \n",
            "std      0.604589    0.433246    0.560676        0.300918         0.772510   \n",
            "min      1.000000    1.000000    1.000000        1.000000         1.000000   \n",
            "25%      2.000000    1.000000    1.000000        1.000000         1.000000   \n",
            "50%      2.000000    1.000000    1.000000        1.000000         2.000000   \n",
            "75%      2.000000    1.000000    1.000000        1.000000         2.000000   \n",
            "max      5.000000    4.000000    5.000000        2.000000         3.000000   \n",
            "\n",
            "       No. of children  Educational level  Employment status  Working period  \\\n",
            "count       309.000000         309.000000         309.000000      309.000000   \n",
            "mean          1.323625           6.019417           1.042071        4.433657   \n",
            "std           0.557236           1.164802           0.257694        0.882532   \n",
            "min           1.000000           2.000000           1.000000        1.000000   \n",
            "25%           1.000000           5.000000           1.000000        4.000000   \n",
            "50%           1.000000           6.000000           1.000000        5.000000   \n",
            "75%           2.000000           7.000000           1.000000        5.000000   \n",
            "max           3.000000           9.000000           3.000000        5.000000   \n",
            "\n",
            "       Household income  ...        JS34        JS35        JS36         JP1  \\\n",
            "count        309.000000  ...  309.000000  309.000000  309.000000  309.000000   \n",
            "mean           5.132686  ...    3.922330    3.789644    3.705502    4.207120   \n",
            "std            2.599675  ...    0.911927    0.979211    1.032273    0.722425   \n",
            "min            1.000000  ...    1.000000    1.000000    1.000000    1.000000   \n",
            "25%            3.000000  ...    4.000000    3.000000    3.000000    4.000000   \n",
            "50%            5.000000  ...    4.000000    4.000000    4.000000    4.000000   \n",
            "75%            7.000000  ...    4.000000    4.000000    4.000000    5.000000   \n",
            "max           10.000000  ...    5.000000    5.000000    5.000000    5.000000   \n",
            "\n",
            "              JP2         JP3         JP4         JP5         JP6  \\\n",
            "count  309.000000  309.000000  309.000000  309.000000  309.000000   \n",
            "mean     4.194175    4.090615    4.042071    4.239482    4.388350   \n",
            "std      0.650548    0.754774    0.861238    0.765062    0.682333   \n",
            "min      1.000000    2.000000    2.000000    1.000000    1.000000   \n",
            "25%      4.000000    4.000000    4.000000    4.000000    4.000000   \n",
            "50%      4.000000    4.000000    4.000000    4.000000    4.000000   \n",
            "75%      5.000000    5.000000    5.000000    5.000000    5.000000   \n",
            "max      5.000000    5.000000    5.000000    5.000000    5.000000   \n",
            "\n",
            "       Occupational_Stress_Target  \n",
            "count                  309.000000  \n",
            "mean                     0.634304  \n",
            "std                      0.482406  \n",
            "min                      0.000000  \n",
            "25%                      0.000000  \n",
            "50%                      1.000000  \n",
            "75%                      1.000000  \n",
            "max                      1.000000  \n",
            "\n",
            "[8 rows x 54 columns]\n"
          ]
        }
      ]
    },
    {
      "cell_type": "code",
      "source": [
        "# Step 3: Data Types\n",
        "print(\"\\nData Types of Each Column:\")\n",
        "print(df.dtypes)\n"
      ],
      "metadata": {
        "colab": {
          "base_uri": "https://localhost:8080/"
        },
        "id": "913H9ujzmdP8",
        "outputId": "9a696e89-3e19-4650-aa1d-39c512d50196"
      },
      "execution_count": null,
      "outputs": [
        {
          "output_type": "stream",
          "name": "stdout",
          "text": [
            "\n",
            "Data Types of Each Column:\n",
            "Age                           int64\n",
            "Religion                      int64\n",
            "Ethnicity                     int64\n",
            "Marital status                int64\n",
            "Marriage period               int64\n",
            "No. of children               int64\n",
            "Educational level             int64\n",
            "Employment status             int64\n",
            "Working period                int64\n",
            "Household income              int64\n",
            "Sperm quality                 int64\n",
            "JS1                           int64\n",
            "JS2                           int64\n",
            "JS3                           int64\n",
            "JS4                           int64\n",
            "JS5                           int64\n",
            "JS6                           int64\n",
            "JS7                           int64\n",
            "JS8                           int64\n",
            "JS9                           int64\n",
            "JS10                          int64\n",
            "JS11                          int64\n",
            "JS12                          int64\n",
            "JS13                          int64\n",
            "JS14                          int64\n",
            "JS15                          int64\n",
            "JS16                          int64\n",
            "JS17                          int64\n",
            "JS18                          int64\n",
            "JS19                          int64\n",
            "JS20                          int64\n",
            "JS21                          int64\n",
            "JS22                          int64\n",
            "JS23                          int64\n",
            "JS24                          int64\n",
            "JS25                          int64\n",
            "JS26                          int64\n",
            "JS27                          int64\n",
            "JS28                          int64\n",
            "JS29                          int64\n",
            "JS30                          int64\n",
            "JS31                          int64\n",
            "JS32                          int64\n",
            "JS33                          int64\n",
            "JS34                          int64\n",
            "JS35                          int64\n",
            "JS36                          int64\n",
            "JP1                           int64\n",
            "JP2                           int64\n",
            "JP3                           int64\n",
            "JP4                           int64\n",
            "JP5                           int64\n",
            "JP6                           int64\n",
            "Occupational_Stress_Target    int64\n",
            "dtype: object\n"
          ]
        }
      ]
    },
    {
      "cell_type": "code",
      "source": [
        "# Step 4: Missing Values\n",
        "print(\"\\nMissing Values in Each Column:\")\n",
        "print(df.isnull().sum())"
      ],
      "metadata": {
        "colab": {
          "base_uri": "https://localhost:8080/"
        },
        "id": "rzasL_cpmdMm",
        "outputId": "4421ce62-4dbc-4beb-885c-2116ee0fc710"
      },
      "execution_count": null,
      "outputs": [
        {
          "output_type": "stream",
          "name": "stdout",
          "text": [
            "\n",
            "Missing Values in Each Column:\n",
            "Age                           0\n",
            "Religion                      0\n",
            "Ethnicity                     0\n",
            "Marital status                0\n",
            "Marriage period               0\n",
            "No. of children               0\n",
            "Educational level             0\n",
            "Employment status             0\n",
            "Working period                0\n",
            "Household income              0\n",
            "Sperm quality                 0\n",
            "JS1                           0\n",
            "JS2                           0\n",
            "JS3                           0\n",
            "JS4                           0\n",
            "JS5                           0\n",
            "JS6                           0\n",
            "JS7                           0\n",
            "JS8                           0\n",
            "JS9                           0\n",
            "JS10                          0\n",
            "JS11                          0\n",
            "JS12                          0\n",
            "JS13                          0\n",
            "JS14                          0\n",
            "JS15                          0\n",
            "JS16                          0\n",
            "JS17                          0\n",
            "JS18                          0\n",
            "JS19                          0\n",
            "JS20                          0\n",
            "JS21                          0\n",
            "JS22                          0\n",
            "JS23                          0\n",
            "JS24                          0\n",
            "JS25                          0\n",
            "JS26                          0\n",
            "JS27                          0\n",
            "JS28                          0\n",
            "JS29                          0\n",
            "JS30                          0\n",
            "JS31                          0\n",
            "JS32                          0\n",
            "JS33                          0\n",
            "JS34                          0\n",
            "JS35                          0\n",
            "JS36                          0\n",
            "JP1                           0\n",
            "JP2                           0\n",
            "JP3                           0\n",
            "JP4                           0\n",
            "JP5                           0\n",
            "JP6                           0\n",
            "Occupational_Stress_Target    0\n",
            "dtype: int64\n"
          ]
        }
      ]
    },
    {
      "cell_type": "code",
      "source": [
        "# Step 5: Unique Values in Each Column (Especially useful for categorical data)\n",
        "print(\"\\nNumber of Unique Values in Each Column:\")\n",
        "print(df.nunique())"
      ],
      "metadata": {
        "colab": {
          "base_uri": "https://localhost:8080/"
        },
        "id": "WTROJHVlmc3e",
        "outputId": "67e39bd2-9377-451e-c9e3-fe323bec1004"
      },
      "execution_count": null,
      "outputs": [
        {
          "output_type": "stream",
          "name": "stdout",
          "text": [
            "\n",
            "Number of Unique Values in Each Column:\n",
            "Age                            5\n",
            "Religion                       4\n",
            "Ethnicity                      5\n",
            "Marital status                 2\n",
            "Marriage period                3\n",
            "No. of children                3\n",
            "Educational level              8\n",
            "Employment status              3\n",
            "Working period                 5\n",
            "Household income              10\n",
            "Sperm quality                  8\n",
            "JS1                            5\n",
            "JS2                            5\n",
            "JS3                            5\n",
            "JS4                            5\n",
            "JS5                            5\n",
            "JS6                            5\n",
            "JS7                            5\n",
            "JS8                            5\n",
            "JS9                            5\n",
            "JS10                           5\n",
            "JS11                           5\n",
            "JS12                           5\n",
            "JS13                           5\n",
            "JS14                           5\n",
            "JS15                           5\n",
            "JS16                           5\n",
            "JS17                           5\n",
            "JS18                           5\n",
            "JS19                           5\n",
            "JS20                           5\n",
            "JS21                           5\n",
            "JS22                           5\n",
            "JS23                           5\n",
            "JS24                           5\n",
            "JS25                           5\n",
            "JS26                           5\n",
            "JS27                           4\n",
            "JS28                           5\n",
            "JS29                           5\n",
            "JS30                           4\n",
            "JS31                           4\n",
            "JS32                           4\n",
            "JS33                           5\n",
            "JS34                           5\n",
            "JS35                           5\n",
            "JS36                           5\n",
            "JP1                            5\n",
            "JP2                            5\n",
            "JP3                            4\n",
            "JP4                            4\n",
            "JP5                            5\n",
            "JP6                            5\n",
            "Occupational_Stress_Target     2\n",
            "dtype: int64\n"
          ]
        }
      ]
    },
    {
      "cell_type": "code",
      "source": [
        "# Replace 'CATEGORICAL_COLUMN' with your actual categorical column names\n",
        "for column in ['Religion', 'Ethnicity', 'Marital status']:\n",
        "    print(f\"\\nValue Counts for {column}:\")\n",
        "    print(df[column].value_counts())"
      ],
      "metadata": {
        "colab": {
          "base_uri": "https://localhost:8080/"
        },
        "id": "V9-ZzXNpnhRk",
        "outputId": "3ce6c401-0363-44e1-d09d-cc901c7d4a75"
      },
      "execution_count": null,
      "outputs": [
        {
          "output_type": "stream",
          "name": "stdout",
          "text": [
            "\n",
            "Value Counts for Religion:\n",
            "Religion\n",
            "1    297\n",
            "3      8\n",
            "4      3\n",
            "2      1\n",
            "Name: count, dtype: int64\n",
            "\n",
            "Value Counts for Ethnicity:\n",
            "Ethnicity\n",
            "1    291\n",
            "3     10\n",
            "2      3\n",
            "4      3\n",
            "5      2\n",
            "Name: count, dtype: int64\n",
            "\n",
            "Value Counts for Marital status:\n",
            "Marital status\n",
            "1    278\n",
            "2     31\n",
            "Name: count, dtype: int64\n"
          ]
        }
      ]
    },
    {
      "cell_type": "code",
      "source": [
        "df.columns"
      ],
      "metadata": {
        "colab": {
          "base_uri": "https://localhost:8080/"
        },
        "id": "_DGYPM9FEoxj",
        "outputId": "974e2f16-9d05-497e-ffaf-5304c347bf56"
      },
      "execution_count": null,
      "outputs": [
        {
          "output_type": "execute_result",
          "data": {
            "text/plain": [
              "Index(['Age', 'Religion', 'Ethnicity', 'Marital status', 'Marriage period',\n",
              "       'No. of children', 'Educational level', 'Employment status',\n",
              "       'Working period', 'Household income', 'Sperm quality', 'JS1', 'JS2',\n",
              "       'JS3', 'JS4', 'JS5', 'JS6', 'JS7', 'JS8', 'JS9', 'JS10', 'JS11', 'JS12',\n",
              "       'JS13', 'JS14', 'JS15', 'JS16', 'JS17', 'JS18', 'JS19', 'JS20', 'JS21',\n",
              "       'JS22', 'JS23', 'JS24', 'JS25', 'JS26', 'JS27', 'JS28', 'JS29', 'JS30',\n",
              "       'JS31', 'JS32', 'JS33', 'JS34', 'JS35', 'JS36', 'JP1', 'JP2', 'JP3',\n",
              "       'JP4', 'JP5', 'JP6', 'Occupational_Stress_Target'],\n",
              "      dtype='object')"
            ]
          },
          "metadata": {},
          "execution_count": 12
        }
      ]
    },
    {
      "cell_type": "markdown",
      "source": [
        "# Exploratory Data Analysis (Later)"
      ],
      "metadata": {
        "id": "2PpXpU0S0WsA"
      }
    },
    {
      "cell_type": "code",
      "source": [
        "['Educational level', 'Household income', 'JP4', 'JP5', 'JP6', 'JS1', 'JS2', 'JS3', 'JS4', 'JS5', 'JS6', 'JS7', 'JS8', 'JS10',\n",
        " 'JS11', 'JS12', 'JS13', 'JS14', 'JS15', 'JS16', 'JS17', 'JS18', 'JS19', 'JS20', 'JS21', 'JS22', 'JS23', 'JS24', 'JS25', 'JS26',\n",
        " 'JS28', 'JS29', 'JS30', 'JS31', 'JS32', 'JS33', 'JS35', 'JS36', 'Sperm quality']"
      ],
      "metadata": {
        "id": "FYmQAGin0eqz",
        "colab": {
          "base_uri": "https://localhost:8080/"
        },
        "outputId": "e2ad050b-5a86-41ee-bf05-de7f29b6d3fc"
      },
      "execution_count": null,
      "outputs": [
        {
          "output_type": "execute_result",
          "data": {
            "text/plain": [
              "['Educational level',\n",
              " 'Household income',\n",
              " 'JP4',\n",
              " 'JP5',\n",
              " 'JP6',\n",
              " 'JS1',\n",
              " 'JS2',\n",
              " 'JS3',\n",
              " 'JS4',\n",
              " 'JS5',\n",
              " 'JS6',\n",
              " 'JS7',\n",
              " 'JS8',\n",
              " 'JS10',\n",
              " 'JS11',\n",
              " 'JS12',\n",
              " 'JS13',\n",
              " 'JS14',\n",
              " 'JS15',\n",
              " 'JS16',\n",
              " 'JS17',\n",
              " 'JS18',\n",
              " 'JS19',\n",
              " 'JS20',\n",
              " 'JS21',\n",
              " 'JS22',\n",
              " 'JS23',\n",
              " 'JS24',\n",
              " 'JS25',\n",
              " 'JS26',\n",
              " 'JS28',\n",
              " 'JS29',\n",
              " 'JS30',\n",
              " 'JS31',\n",
              " 'JS32',\n",
              " 'JS33',\n",
              " 'JS35',\n",
              " 'JS36',\n",
              " 'Sperm quality']"
            ]
          },
          "metadata": {},
          "execution_count": 13
        }
      ]
    },
    {
      "cell_type": "markdown",
      "source": [
        "# Natural Language Sentence Generation"
      ],
      "metadata": {
        "id": "gAXA_g2mGhkz"
      }
    },
    {
      "cell_type": "code",
      "source": [
        "import pandas as pd\n",
        "\n",
        "def generate_sentence(row):\n",
        "    # Reverse the score for negatively coded items\n",
        "    reverse_coded = ['JS2', 'JS3', 'JS5', 'JS10', 'JS11', 'JS13', 'JS16', 'JS18', 'JS19', 'JS20', 'JS21', 'JS23', 'JS24', 'JS26', 'JS28', 'JS29', 'JS34', 'JS35', 'JS36', 'JP4', 'JP5', 'JP6']\n",
        "    for col in reverse_coded:\n",
        "        row[col] = 6 - row[col]\n",
        "\n",
        "    # Dictionary mappings\n",
        "    age_mapping = {1: 'less than 29 years old', 2: 'in the range 30-39 years', 3: 'in the range 40-49 years', 4: 'in the range 50-59 years', 5: 'with age greater than or equal to 60 years'}\n",
        "    religion_mapping = {1: 'Islam', 2: 'Christian', 3: 'Buddhist', 4: 'Hindu'}\n",
        "    ethnicity_mapping = {1: 'Malay', 2: 'Bumiputera', 3: 'Chinese', 4: 'Indian', 5: 'Other'}\n",
        "    marital_status_mapping = {1: 'in their first marriage', 2: 'in their second marriage or more'}\n",
        "    marriage_period_mapping = {1: '5 years and below', 2: '6-10 years', 3: '11 years and above'}\n",
        "    children_mapping = {1: 'no children', 2: '1-2 children', 3: '3 or more children'}\n",
        "    education_mapping = {1: 'had no schooling', 2: 'did not complete primary school', 3: 'completed primary school',\n",
        "                         4: 'completed junior high school', 5: 'completed high school', 6: 'completed a diploma',\n",
        "                         7: 'graduated from college', 8: 'has a master’s degree', 9: 'has a doctorate'}\n",
        "    employment_mapping = {1: 'employed full-time', 2: 'employed part-time', 3: 'unemployed'}\n",
        "    working_period_mapping = {1: 'less than a year', 2: '1-3 years', 3: '3-5 years', 4: '5-10 years', 5: 'more than 10 years'}\n",
        "    income_mapping = {1: 'less than RM2,500', 2: 'RM2,500-RM3,169', 3: 'RM3,170-RM3,969', 4: 'RM3,970-RM4,849',\n",
        "                      5: 'RM4,850-RM5,879', 6: 'RM5,880-RM7,099', 7: 'RM7,110-RM8,699', 8: 'RM8,700-RM10,959',\n",
        "                      9: 'RM10,960-RM15,039', 10: 'RM15,040 or more'}\n",
        "    sperm_quality_mapping = {1: 'normal', 2: 'oligozoospermia', 3: 'asthenozoospermia', 4: 'teratozoospermia',\n",
        "                             5: 'oligoasthenozoospermia', 6: 'asthenoteratozoospermia',\n",
        "                             7: 'oligoasthenoteratozoospermia', 8: 'azoospermia'}\n",
        "    likert_mapping = {1: 'strongly disagree', 2: 'disagree', 3: 'are neutral', 4: 'agree', 5: 'strongly agree'}\n",
        "\n",
        "    # Create sentence\n",
        "    sentence = (\n",
        "        f\"A {ethnicity_mapping[row['Ethnicity']]} person aged {age_mapping[row['Age']]} following {religion_mapping[row['Religion']]} who is {marital_status_mapping[row['Marital status']]} \"\n",
        "        f\"and has been married for {marriage_period_mapping[row['Marriage period']]}, has {children_mapping[row['No. of children']]}, who {education_mapping[row['No. of children']]}, and is {employment_mapping[row['Employment status']]}. \"\n",
        "        f\"They have been working for {working_period_mapping[row['Working period']]}, with a household income of {income_mapping[row['Household income']]} and sperm quality described as {sperm_quality_mapping[row['Sperm quality']]}. \"\n",
        "        f\"They {likert_mapping[row['JS1']]} that they are being paid a fair amount for the work they do, {likert_mapping[row['JS2']]} that raises are too few and far between, {likert_mapping[row['JS3']]} that they feel unappreciated by the organisation when they think about what they are paid, and {likert_mapping[row['JS4']]} that they feel satisfied with their chances for salary increases. \"\n",
        "        f\"They {likert_mapping[row['JS5']]} that there is really too little chance for promotion on their job, {likert_mapping[row['JS6']]} that those who do well on the job stand a fair chance of being promoted, {likert_mapping[row['JS7']]} that people get ahead as fast as they do in other places, and {likert_mapping[row['JS8']]} that they are satisfied with their chances for promotion.\"\n",
        "        f\"They {likert_mapping[row['JS9']]} that their supervisor is quite competent in doing his/her job, {likert_mapping[row['JS10']]} that their supervisor is unfair to them, {likert_mapping[row['JS11']]} that their supervisor shows too little interest in the feelings of subordinates, and {likert_mapping[row['JS12']]} that they like their supervisor. \"\n",
        "        f\"They {likert_mapping[row['JS13']]} that they are not satisfied with the benefits they receive, {likert_mapping[row['JS14']]} that the benefits they receive are as good as most other organisations offer, {likert_mapping[row['JS15']]} that the benefit package they have is equitable, and {likert_mapping[row['JS16']]} that there are benefits they do not have which they should have. \"\n",
        "        f\"They {likert_mapping[row['JS17']]} that when they do a good job, they receive the recognition for it that they should receive, {likert_mapping[row['JS18']]} that they do not feel that the work they do is appreciated, {likert_mapping[row['JS19']]} that there are few rewards for those who work there, and {likert_mapping[row['JS20']]} that they don't feel their efforts are rewarded the way they should be. \"\n",
        "        f\"They {likert_mapping[row['JS21']]} that many of the rules and procedures make doing a good job difficult, {likert_mapping[row['JS22']]} that their efforts to do a good job are seldom blocked by red tape, {likert_mapping[row['JS23']]} that they have too much to do at work, and {likert_mapping[row['JS24']]} that they have too much paperwork. \"\n",
        "        f\"They {likert_mapping[row['JS25']]} that they like the people they work with, {likert_mapping[row['JS26']]} that they find they have to work harder at their job because of the incompetence of people they work with, {likert_mapping[row['JS27']]} that they enjoy their co-workers, and {likert_mapping[row['JS28']]} that there is too much bickering and fighting at work. \"\n",
        "        f\"They {likert_mapping[row['JS29']]} that sometimes they feel their job is meaningless, {likert_mapping[row['JS30']]} that they like doing the things they do at work, {likert_mapping[row['JS31']]} that they feel a sense of pride in doing their job, and {likert_mapping[row['JS32']]} that their job is enjoyable. \"\n",
        "        f\"They {likert_mapping[row['JS33']]} that communications seem good within this organisatio, {likert_mapping[row['JS34']]} that the goals of this organisation are not clear to them, {likert_mapping[row['JS35']]} that they often feel that they do not know what is going on with the organisation, and {likert_mapping[row['JS36']]} that work assignments are not fully explained. \"\n",
        "        f\"They {likert_mapping[row['JP1']]} that they can complete their tasks despite their fertility problems, {likert_mapping[row['JP2']]} that they can focus in achieving their goals at work even with their fertility problem, and {likert_mapping[row['JP3']]} that they feel energized in completing their work even with their fertility problem. \"\n",
        "        f\"They {likert_mapping[row['JP4']]} that they find it difficult to manage work-related stress because of their fertility problem, {likert_mapping[row['JP5']]} that their fertility problem prevents them from enjoying their work, and {likert_mapping[row['JP6']]} that they give up trying to complete specific tasks because of their fertility problem. \"\n",
        "\n",
        "    )\n",
        "    return sentence\n",
        "\n",
        "# Assuming the DataFrame is named df\n",
        "df['text'] = df.apply(generate_sentence, axis=1)\n"
      ],
      "metadata": {
        "id": "SEL2TjoMGhAq"
      },
      "execution_count": null,
      "outputs": []
    },
    {
      "cell_type": "code",
      "source": [
        "df['text'][0]"
      ],
      "metadata": {
        "colab": {
          "base_uri": "https://localhost:8080/",
          "height": 140
        },
        "id": "dCSKTPxTGraT",
        "outputId": "7eb40d28-a324-4072-b7d8-e4d68663ba4d"
      },
      "execution_count": null,
      "outputs": [
        {
          "output_type": "execute_result",
          "data": {
            "text/plain": [
              "\"They have a household income of RM7,110-RM8,699 and sperm quality described as asthenozoospermia. They agree that they are being paid a fair amount for the work they do, disagree that raises are too few and far between, disagree that they feel unappreciated by the organisation when they think about what they are paid, and strongly agree that they feel satisfied with their chances for salary increases. They strongly disagree that there is really too little chance for promotion on their job, agree that those who do well on the job stand a fair chance of being promoted, agree that people get ahead as fast as they do in other places, and agree that they are satisfied with their chances for promotion. They strongly disagree that their supervisor is unfair to them, strongly disagree that their supervisor shows too little interest in the feelings of subordinates, and agree that they like their supervisor. They strongly disagree that they are not satisfied with the benefits they receive, are neutral that the benefits they receive are as good as most other organisations offer, and disagree that the benefit package they have is equitable. They strongly disagree that there are benefits they do not have which they should have, agree that when they do a good job, they receive the recognition for it that they should receive, and strongly disagree that they do not feel that the work they do is appreciated. They disagree that there are few rewards for those who work there, strongly disagree that they don't feel their efforts are rewarded the way they should be, and disagree that many of the rules and procedures make doing a good job difficult. They disagree that their efforts to do a good job are seldom blocked by red tape, are neutral that they have too much to do at work, are neutral that they have too much paperwork, and agree that they like the people they work with. They disagree that they find they have to work harder at their job because of the incompetence of people they work with, strongly disagree that there is too much bickering and fighting at work, and strongly disagree that sometimes they feel their job is meaningless. They agree that they like doing the things they do at work, strongly agree that they feel a sense of pride in doing their job, strongly agree that their job is enjoyable, and strongly agree that communications seem good within this organisation. They disagree that they often feel that they do not know what is going on with the organisation, disagree that work assignments are not fully explained, and agree that they find it difficult to manage work-related stress because of their fertility problem. They strongly disagree that their fertility problem prevents them from enjoying their work, and strongly disagree that they give up trying to complete specific tasks because of their fertility problem. They completed a diploma in their education level.\""
            ],
            "application/vnd.google.colaboratory.intrinsic+json": {
              "type": "string"
            }
          },
          "metadata": {},
          "execution_count": 15
        }
      ]
    },
    {
      "cell_type": "code",
      "source": [
        "df['text'][1]"
      ],
      "metadata": {
        "colab": {
          "base_uri": "https://localhost:8080/",
          "height": 140
        },
        "id": "wRfy4x0sScfu",
        "outputId": "328bcaae-36f2-47ef-ef88-3e77b2789c73"
      },
      "execution_count": null,
      "outputs": [
        {
          "output_type": "execute_result",
          "data": {
            "text/plain": [
              "\"They have a household income of RM3,970-RM4,849 and sperm quality described as normal. They agree that they are being paid a fair amount for the work they do, strongly agree that raises are too few and far between, are neutral that they feel unappreciated by the organisation when they think about what they are paid, and disagree that they feel satisfied with their chances for salary increases. They disagree that there is really too little chance for promotion on their job, are neutral that those who do well on the job stand a fair chance of being promoted, are neutral that people get ahead as fast as they do in other places, and are neutral that they are satisfied with their chances for promotion. They disagree that their supervisor is unfair to them, are neutral that their supervisor shows too little interest in the feelings of subordinates, and are neutral that they like their supervisor. They are neutral that they are not satisfied with the benefits they receive, are neutral that the benefits they receive are as good as most other organisations offer, and are neutral that the benefit package they have is equitable. They are neutral that there are benefits they do not have which they should have, are neutral that when they do a good job, they receive the recognition for it that they should receive, and disagree that they do not feel that the work they do is appreciated. They agree that there are few rewards for those who work there, are neutral that they don't feel their efforts are rewarded the way they should be, and agree that many of the rules and procedures make doing a good job difficult. They are neutral that their efforts to do a good job are seldom blocked by red tape, are neutral that they have too much to do at work, strongly disagree that they have too much paperwork, and strongly agree that they like the people they work with. They strongly disagree that they find they have to work harder at their job because of the incompetence of people they work with, strongly disagree that there is too much bickering and fighting at work, and strongly disagree that sometimes they feel their job is meaningless. They strongly agree that they like doing the things they do at work, agree that they feel a sense of pride in doing their job, strongly agree that their job is enjoyable, and strongly agree that communications seem good within this organisation. They strongly disagree that they often feel that they do not know what is going on with the organisation, strongly disagree that work assignments are not fully explained, and strongly disagree that they find it difficult to manage work-related stress because of their fertility problem. They strongly disagree that their fertility problem prevents them from enjoying their work, and strongly disagree that they give up trying to complete specific tasks because of their fertility problem. They completed a diploma in their education level.\""
            ],
            "application/vnd.google.colaboratory.intrinsic+json": {
              "type": "string"
            }
          },
          "metadata": {},
          "execution_count": 16
        }
      ]
    },
    {
      "cell_type": "code",
      "source": [
        "df = df[['text', 'Occupational_Stress_Target']]"
      ],
      "metadata": {
        "id": "i_JmXSG4QzUj"
      },
      "execution_count": null,
      "outputs": []
    },
    {
      "cell_type": "code",
      "source": [
        "df.shape"
      ],
      "metadata": {
        "colab": {
          "base_uri": "https://localhost:8080/"
        },
        "id": "W54wmQQuRT0o",
        "outputId": "fe33d523-ed60-40da-9a6c-71d2eaca0906"
      },
      "execution_count": null,
      "outputs": [
        {
          "output_type": "execute_result",
          "data": {
            "text/plain": [
              "(309, 2)"
            ]
          },
          "metadata": {},
          "execution_count": 18
        }
      ]
    },
    {
      "cell_type": "code",
      "source": [
        "# Save DataFrame to an Excel file\n",
        "df.to_excel('sentences.xlsx', index=False)  # index=False ensures that the index is not written to the file"
      ],
      "metadata": {
        "id": "DFBwwa2e0jpt"
      },
      "execution_count": null,
      "outputs": []
    },
    {
      "cell_type": "markdown",
      "source": [
        "# Word distribution"
      ],
      "metadata": {
        "id": "ty0b42EHR360"
      }
    },
    {
      "cell_type": "code",
      "source": [
        "import matplotlib.pyplot as plt\n",
        "import seaborn as sns\n",
        "\n",
        "# Add a new column for the length of each transcription\n",
        "df['text_len'] = df['text'].apply(len)\n",
        "\n",
        "# Plot the distribution of transcription lengths\n",
        "plt.figure(figsize=(10, 6))\n",
        "sns.histplot(df['text_len'], bins=50, kde=True)\n",
        "plt.title('Distribution of Text Lengths')\n",
        "plt.xlabel('Length of Text')\n",
        "plt.ylabel('Frequency')\n",
        "plt.show()\n"
      ],
      "metadata": {
        "colab": {
          "base_uri": "https://localhost:8080/",
          "height": 564
        },
        "id": "tC_nLm-BR5wv",
        "outputId": "ed8f18f6-812f-4654-bddd-b54a8b874d52"
      },
      "execution_count": null,
      "outputs": [
        {
          "output_type": "display_data",
          "data": {
            "text/plain": [
              "<Figure size 1000x600 with 1 Axes>"
            ],
            "image/png": "[encoded data removed]"
          },
          "metadata": {}
        }
      ]
    },
    {
      "cell_type": "code",
      "source": [
        "# Print basic statistics of transcription lengths\n",
        "print(df['text_len'].describe())"
      ],
      "metadata": {
        "colab": {
          "base_uri": "https://localhost:8080/"
        },
        "id": "H9J2AV96SNyS",
        "outputId": "016ea2c1-2300-4295-ac42-1c645ee85b78"
      },
      "execution_count": null,
      "outputs": [
        {
          "output_type": "stream",
          "name": "stdout",
          "text": [
            "count     309.000000\n",
            "mean     2851.818770\n",
            "std        81.289962\n",
            "min      2730.000000\n",
            "25%      2785.000000\n",
            "50%      2843.000000\n",
            "75%      2893.000000\n",
            "max      3083.000000\n",
            "Name: text_len, dtype: float64\n"
          ]
        }
      ]
    },
    {
      "cell_type": "code",
      "source": [
        "from collections import Counter\n",
        "from sklearn.feature_extraction.text import ENGLISH_STOP_WORDS\n",
        "\n",
        "# Tokenize the transcriptions and remove stopwords\n",
        "words = df['text'].str.lower().str.split()\n",
        "words = words.apply(lambda x: [word for word in x if word not in ENGLISH_STOP_WORDS])\n",
        "\n",
        "# Flatten list and count word frequencies\n",
        "word_freq = Counter([word for sublist in words for word in sublist])\n",
        "\n",
        "# Most common words\n",
        "print(word_freq.most_common(10))\n"
      ],
      "metadata": {
        "colab": {
          "base_uri": "https://localhost:8080/"
        },
        "id": "HUYgXLSESTSn",
        "outputId": "18325156-348e-4358-da45-d712ce77b68c"
      },
      "execution_count": null,
      "outputs": [
        {
          "output_type": "stream",
          "name": "stdout",
          "text": [
            "[('disagree', 5188), ('agree', 4521), ('strongly', 2752), ('work', 2163), ('feel', 2163), ('job', 1854), ('good', 1545), ('neutral', 1415), ('work,', 1236), ('satisfied', 927)]\n"
          ]
        }
      ]
    },
    {
      "cell_type": "markdown",
      "source": [
        "# Load BERT"
      ],
      "metadata": {
        "id": "vniW0ltG0fQp"
      }
    },
    {
      "cell_type": "code",
      "source": [
        "import torch\n",
        "from torch.utils.data import DataLoader, Dataset, random_split\n",
        "from transformers import BertTokenizer, BertForSequenceClassification, AdamW, get_linear_schedule_with_warmup\n",
        "from sklearn.metrics import classification_report\n",
        "import numpy as np\n",
        "import pandas as pd\n",
        "import matplotlib.pyplot as plt\n",
        "from tqdm import tqdm\n",
        "\n",
        "# Initialize tokenizer and model\n",
        "tokenizer = BertTokenizer.from_pretrained('bert-base-uncased')\n",
        "model = BertForSequenceClassification.from_pretrained('bert-base-uncased', num_labels=2, hidden_dropout_prob=0.2,\n",
        "                                    attention_probs_dropout_prob=0.2)\n"
      ],
      "metadata": {
        "id": "VDe0GcxG0rRd"
      },
      "execution_count": null,
      "outputs": []
    },
    {
      "cell_type": "markdown",
      "source": [
        "# Create Dataset Class"
      ],
      "metadata": {
        "id": "9TEJC35f1woC"
      }
    },
    {
      "cell_type": "code",
      "source": [
        "# Custom dataset\n",
        "class MedicalTranscriptDataset(Dataset):\n",
        "    def __init__(self, texts, labels, tokenizer, max_len=512):\n",
        "        self.texts = texts\n",
        "        self.labels = labels\n",
        "        self.tokenizer = tokenizer\n",
        "        self.max_len = max_len\n",
        "\n",
        "    def __len__(self):\n",
        "        return len(self.texts)\n",
        "\n",
        "    def __getitem__(self, idx):\n",
        "        text = self.texts[idx]\n",
        "        label = self.labels[idx]\n",
        "        encoding = self.tokenizer.encode_plus(\n",
        "            text,\n",
        "            add_special_tokens=True,\n",
        "            max_length=self.max_len,\n",
        "            return_token_type_ids=False,\n",
        "            padding='max_length',\n",
        "            truncation=True,\n",
        "            return_attention_mask=True,\n",
        "            return_tensors='pt',\n",
        "        )\n",
        "        return {\n",
        "            'input_ids': encoding['input_ids'].flatten(),\n",
        "            'attention_mask': encoding['attention_mask'].flatten(),\n",
        "            'labels': torch.tensor(label, dtype=torch.long)\n",
        "        }"
      ],
      "metadata": {
        "id": "zKZT0njV17h6"
      },
      "execution_count": null,
      "outputs": []
    },
    {
      "cell_type": "markdown",
      "source": [
        "# Split the dataset and create data loaders"
      ],
      "metadata": {
        "id": "xmdSfkjx2jt1"
      }
    },
    {
      "cell_type": "code",
      "source": [
        "from sklearn.model_selection import train_test_split\n",
        "\n",
        "# Prepare dataset\n",
        "labels = pd.factorize(df['Occupational_Stress_Target'])[0]\n",
        "texts = df['text'].tolist()\n",
        "\n",
        "# Split train+val into train and val sets\n",
        "texts_train, texts_val, labels_train, labels_val = train_test_split(\n",
        "    texts, labels, test_size=0.2, stratify=labels, random_state=42)\n",
        "\n",
        "# Create custom datasets\n",
        "train_dataset = MedicalTranscriptDataset(texts_train, labels_train, tokenizer)\n",
        "val_dataset = MedicalTranscriptDataset(texts_val, labels_val, tokenizer)\n",
        "\n",
        "# Create dataloaders\n",
        "train_loader = DataLoader(train_dataset, batch_size=16, shuffle=True)\n",
        "val_loader = DataLoader(val_dataset, batch_size=16, shuffle=False)\n"
      ],
      "metadata": {
        "id": "4JeZpEuL2qad"
      },
      "execution_count": null,
      "outputs": []
    },
    {
      "cell_type": "code",
      "source": [
        "print(len(train_dataset))\n",
        "print(len(val_dataset))\n",
        "print(len(train_dataset) + len(val_dataset))"
      ],
      "metadata": {
        "id": "x78tvGEYjm8e"
      },
      "execution_count": null,
      "outputs": []
    },
    {
      "cell_type": "code",
      "source": [
        "print(len(train_loader))\n",
        "print(len(val_loader))\n",
        "print(len(train_loader) + len(val_loader))"
      ],
      "metadata": {
        "id": "879Ym-WAjphI"
      },
      "execution_count": null,
      "outputs": []
    },
    {
      "cell_type": "markdown",
      "source": [
        "# Training settings and hyperparameters"
      ],
      "metadata": {
        "id": "-8HnRLO218rl"
      }
    },
    {
      "cell_type": "code",
      "source": [
        "# Training settings\n",
        "device = torch.device(\"cuda\" if torch.cuda.is_available() else \"cpu\")\n",
        "model = model.to(device)\n",
        "optimizer = AdamW(model.parameters(), lr=0.000001, weight_decay=0.01)\n",
        "total_steps = len(train_loader) * 200\n",
        "scheduler = get_linear_schedule_with_warmup(optimizer, num_warmup_steps=50, num_training_steps=total_steps)\n"
      ],
      "metadata": {
        "id": "7F793jLz19we"
      },
      "execution_count": null,
      "outputs": []
    },
    {
      "cell_type": "markdown",
      "source": [
        "# Training and Evaluation Loops"
      ],
      "metadata": {
        "id": "61_HdlDQTq-v"
      }
    },
    {
      "cell_type": "code",
      "source": [
        "# Helper functions for training and evaluation\n",
        "def train_epoch(model, data_loader, optimizer, device, scheduler):\n",
        "    model = model.train()\n",
        "    losses = []\n",
        "    predictions = []\n",
        "    true_labels = []\n",
        "    for d in tqdm(data_loader, desc=\"Training\"):\n",
        "        input_ids = d['input_ids'].to(device)\n",
        "        attention_mask = d['attention_mask'].to(device)\n",
        "        labels = d['labels'].to(device)\n",
        "        outputs = model(input_ids, attention_mask=attention_mask, labels=labels)\n",
        "        loss = outputs[0]\n",
        "        losses.append(loss.item())\n",
        "        loss.backward()\n",
        "        preds = torch.argmax(outputs[1], dim=1)\n",
        "        predictions.extend(preds)\n",
        "        true_labels.extend(labels)\n",
        "        torch.nn.utils.clip_grad_norm_(model.parameters(), max_norm=1.0)\n",
        "        optimizer.step()\n",
        "        scheduler.step()\n",
        "        optimizer.zero_grad()\n",
        "    predictions = torch.stack(predictions).cpu()\n",
        "    true_labels = torch.stack(true_labels).cpu()\n",
        "    return np.mean(losses), classification_report(true_labels, predictions, output_dict=False, digits = 4)\n"
      ],
      "metadata": {
        "id": "hJ6k5y8y2Owo"
      },
      "execution_count": null,
      "outputs": []
    },
    {
      "cell_type": "code",
      "source": [
        "def eval_model(model, data_loader, device):\n",
        "    model = model.eval()\n",
        "    losses = []\n",
        "    predictions = []\n",
        "    true_labels = []\n",
        "    with torch.no_grad():\n",
        "        for d in tqdm(data_loader, desc=\"Evaluating\"):\n",
        "            input_ids = d['input_ids'].to(device)\n",
        "            attention_mask = d['attention_mask'].to(device)\n",
        "            labels = d['labels'].to(device)\n",
        "            outputs = model(input_ids, attention_mask=attention_mask, labels=labels)\n",
        "            loss = outputs[0]\n",
        "            losses.append(loss.item())\n",
        "            preds = torch.argmax(outputs[1], dim=1)\n",
        "            predictions.extend(preds)\n",
        "            true_labels.extend(labels)\n",
        "    predictions = torch.stack(predictions).cpu()\n",
        "    true_labels = torch.stack(true_labels).cpu()\n",
        "    return np.mean(losses), classification_report(true_labels, predictions, output_dict=False, digits = 4)\n"
      ],
      "metadata": {
        "id": "-BGyOGB12yvB"
      },
      "execution_count": null,
      "outputs": []
    },
    {
      "cell_type": "markdown",
      "source": [
        "# Training"
      ],
      "metadata": {
        "id": "RjjxDZ_R21Fx"
      }
    },
    {
      "cell_type": "code",
      "source": [
        "from sklearn.metrics import classification_report\n",
        "import re\n",
        "\n",
        "def extract_accuracy(report):\n",
        "    lines = report.split('\\n')\n",
        "    for line in lines:\n",
        "        if 'accuracy' in line:\n",
        "            match = re.search(r'accuracy\\s+(\\d+\\.\\d+)', line)\n",
        "            if match:\n",
        "                return float(match.group(1))\n",
        "    return 0.0\n",
        "\n",
        "# Early stopping and training process\n",
        "best_val_acc = 0.0\n",
        "patience_counter = 0\n",
        "train_losses = []\n",
        "val_losses = []\n",
        "train_accuracies = []\n",
        "val_accuracies = []\n",
        "\n",
        "for epoch in range(200):\n",
        "    print(f'Epoch {epoch + 1}/{200}')\n",
        "    train_loss, train_report = train_epoch(model, train_loader, optimizer, device, scheduler)\n",
        "    val_loss, val_report = eval_model(model, val_loader, device)\n",
        "\n",
        "    # Extract accuracies from the classification reports\n",
        "    train_accuracy = extract_accuracy(train_report)\n",
        "    val_accuracy = extract_accuracy(val_report)\n",
        "\n",
        "    train_losses.append(train_loss)\n",
        "    val_losses.append(val_loss)\n",
        "    train_accuracies.append(train_accuracy)\n",
        "    val_accuracies.append(val_accuracy)\n",
        "\n",
        "    print(f'Train loss {train_loss}, Training Classification Report:\\n{train_report}')\n",
        "    print(f'Val loss {val_loss}, Validation Classification Report:\\n{val_report}')\n",
        "\n",
        "    print(f'Train accuracy {train_accuracy}, Val accuracy {val_accuracy}')\n",
        "    print('-'*100)\n",
        "    print('-'*100)\n",
        "\n",
        "    if val_accuracy >= best_val_acc:\n",
        "        torch.save(model.state_dict(), 'best_model_state.bin')\n",
        "        best_val_acc = val_accuracy\n",
        "        patience_counter = 0\n",
        "    else:\n",
        "        patience_counter += 1\n",
        "    if patience_counter == 15:\n",
        "        print(\"Early stopping\")\n",
        "        break\n"
      ],
      "metadata": {
        "id": "EysAOxwd23-q"
      },
      "execution_count": null,
      "outputs": []
    },
    {
      "cell_type": "code",
      "source": [
        "import torch\n",
        "from sklearn.metrics import classification_report, confusion_matrix, roc_curve, auc\n",
        "import seaborn as sns\n",
        "import matplotlib.pyplot as plt\n",
        "\n",
        "# Load the best model\n",
        "model.load_state_dict(torch.load('best_model_state.bin'))\n",
        "model = model.to(device)\n",
        "\n",
        "# Evaluate on the validation set\n",
        "val_loss, val_report = eval_model(model, val_loader, device)\n",
        "print(f'Validation Classification Report:\\n{val_report}')\n",
        "\n",
        "# Get predictions and true labels\n",
        "model = model.eval()\n",
        "predictions = []\n",
        "true_labels = []\n",
        "with torch.no_grad():\n",
        "    for d in tqdm(val_loader, desc=\"Evaluating\"):\n",
        "        input_ids = d['input_ids'].to(device)\n",
        "        attention_mask = d['attention_mask'].to(device)\n",
        "        labels = d['labels'].to(device)\n",
        "        outputs = model(input_ids, attention_mask=attention_mask, labels=labels)\n",
        "        preds = torch.argmax(outputs[1], dim=1)\n",
        "        predictions.extend(preds.cpu().numpy())\n",
        "        true_labels.extend(labels.cpu().numpy())\n",
        "\n",
        "# Confusion Matrix\n",
        "cm = confusion_matrix(true_labels, predictions)\n",
        "sns.set_context(\"paper\", font_scale=1.5)\n",
        "plt.rcParams['figure.figsize'] = [6, 4]\n",
        "\n",
        "plt.figure(figsize=(6, 4))\n",
        "sns.heatmap(cm, annot=True, fmt='d', cmap='Blues', cbar=False)\n",
        "plt.xlabel('Predicted Labels', fontsize=14)\n",
        "plt.ylabel('True Labels', fontsize=14)\n",
        "plt.xticks(fontsize=12)\n",
        "plt.yticks(fontsize=12)\n",
        "plt.show()\n",
        "\n",
        "# ROC-AUC Curve\n",
        "fpr, tpr, _ = roc_curve(true_labels, predictions, pos_label=1)\n",
        "roc_auc = auc(fpr, tpr)\n",
        "\n",
        "plt.figure(figsize=(6, 4))\n",
        "plt.plot(fpr, tpr, label=f'Model (area = {roc_auc:.4f})', linewidth=2)\n",
        "plt.plot([0, 1], [0, 1], 'k--', linewidth=2)\n",
        "plt.xlim([0.0, 1.0])\n",
        "plt.ylim([0.0, 1.05])\n",
        "plt.xlabel('False Positive Rate', fontsize=14)\n",
        "plt.ylabel('True Positive Rate', fontsize=14)\n",
        "plt.legend(loc=\"lower right\", fontsize=12)\n",
        "plt.xticks(fontsize=12)\n",
        "plt.yticks(fontsize=12)\n",
        "plt.show()\n"
      ],
      "metadata": {
        "id": "ETWgzEaf3421"
      },
      "execution_count": null,
      "outputs": []
    },
    {
      "cell_type": "code",
      "source": [
        "torch.cuda.empty_cache()"
      ],
      "metadata": {
        "id": "h96vFbGtbnhX"
      },
      "execution_count": null,
      "outputs": []
    },
    {
      "cell_type": "markdown",
      "source": [
        "# Load BioBERT"
      ],
      "metadata": {
        "id": "aJk7ZLYQa0gA"
      }
    },
    {
      "cell_type": "code",
      "source": [
        "# Initialize tokenizer and model\n",
        "tokenizer = BertTokenizer.from_pretrained('dmis-lab/biobert-v1.1')\n",
        "model = BertForSequenceClassification.from_pretrained('dmis-lab/biobert-v1.1', num_labels=2, hidden_dropout_prob=0.2,\n",
        "                                    attention_probs_dropout_prob=0.2).to('cuda')"
      ],
      "metadata": {
        "id": "TexKbSRTWlvI"
      },
      "execution_count": null,
      "outputs": []
    },
    {
      "cell_type": "code",
      "source": [
        "# Training settings\n",
        "device = torch.device(\"cuda\" if torch.cuda.is_available() else \"cpu\")\n",
        "model = model.to(device)\n",
        "optimizer = AdamW(model.parameters(), lr=1e-5, weight_decay=0.01)\n",
        "total_steps = len(train_loader) * 200\n",
        "scheduler = get_linear_schedule_with_warmup(optimizer, num_warmup_steps=50, num_training_steps=total_steps)\n"
      ],
      "metadata": {
        "id": "pFYZQBEBbFwc"
      },
      "execution_count": null,
      "outputs": []
    },
    {
      "cell_type": "code",
      "source": [
        "# Early stopping and training process\n",
        "best_val_loss = np.inf\n",
        "patience_counter = 0\n",
        "train_losses = []\n",
        "val_losses = []\n",
        "\n",
        "for epoch in range(200):\n",
        "    print(f'Epoch {epoch + 1}/{200}')\n",
        "    train_loss, train_report = train_epoch(model, train_loader, optimizer, device, scheduler)\n",
        "    val_loss, val_report = eval_model(model, val_loader, device)\n",
        "    train_losses.append(train_loss)\n",
        "    val_losses.append(val_loss)\n",
        "    print(f'Train loss {train_loss}, Training Classification Report:\\n{train_report}')\n",
        "    print(f'Val loss {val_loss}, Validation Classification Report:\\n{val_report}')\n",
        "\n",
        "    print('-'*100)\n",
        "    print('-'*100)\n",
        "    if val_loss <= best_val_loss:\n",
        "        torch.save(model.state_dict(), 'best_model_state.bin')\n",
        "        best_val_loss = val_loss\n",
        "        patience_counter = 0\n",
        "    else:\n",
        "        patience_counter += 1\n",
        "    if patience_counter == 10:\n",
        "        print(\"Early stopping\")\n",
        "        break\n"
      ],
      "metadata": {
        "id": "TwlVZqZKbSt4"
      },
      "execution_count": null,
      "outputs": []
    },
    {
      "cell_type": "code",
      "source": [
        "torch.cuda.empty_cache()"
      ],
      "metadata": {
        "id": "no8cZFmjeEGK"
      },
      "execution_count": null,
      "outputs": []
    },
    {
      "cell_type": "code",
      "source": [],
      "metadata": {
        "id": "cKHb2pzT6vBm"
      },
      "execution_count": null,
      "outputs": []
    },
    {
      "cell_type": "markdown",
      "source": [
        "# Load ClinicalBERT"
      ],
      "metadata": {
        "id": "j6N5NNcDdsKw"
      }
    },
    {
      "cell_type": "code",
      "source": [
        "# Initialize tokenizer and model\n",
        "tokenizer = BertTokenizer.from_pretrained('emilyalsentzer/Bio_ClinicalBERT')\n",
        "model = BertForSequenceClassification.from_pretrained('emilyalsentzer/Bio_ClinicalBERT', num_labels=2, hidden_dropout_prob=0.2,\n",
        "                                    attention_probs_dropout_prob=0.2).to('cuda')"
      ],
      "metadata": {
        "id": "5_S7InNYdsK7"
      },
      "execution_count": null,
      "outputs": []
    },
    {
      "cell_type": "code",
      "source": [
        "# Training settings\n",
        "device = torch.device(\"cuda\" if torch.cuda.is_available() else \"cpu\")\n",
        "model = model.to(device)\n",
        "optimizer = AdamW(model.parameters(), lr=1e-5, weight_decay=0.01)\n",
        "total_steps = len(train_loader) * 200\n",
        "scheduler = get_linear_schedule_with_warmup(optimizer, num_warmup_steps=50, num_training_steps=total_steps)\n"
      ],
      "metadata": {
        "id": "l1tNis0sdsK7"
      },
      "execution_count": null,
      "outputs": []
    },
    {
      "cell_type": "code",
      "source": [
        "# Early stopping and training process\n",
        "best_val_loss = np.inf\n",
        "patience_counter = 0\n",
        "train_losses = []\n",
        "val_losses = []\n",
        "\n",
        "for epoch in range(200):\n",
        "    print(f'Epoch {epoch + 1}/{200}')\n",
        "    train_loss, train_report = train_epoch(model, train_loader, optimizer, device, scheduler)\n",
        "    val_loss, val_report = eval_model(model, val_loader, device)\n",
        "    train_losses.append(train_loss)\n",
        "    val_losses.append(val_loss)\n",
        "    print(f'Train loss {train_loss}, Training Classification Report:\\n{train_report}')\n",
        "    print(f'Val loss {val_loss}, Validation Classification Report:\\n{val_report}')\n",
        "\n",
        "    print('-'*100)\n",
        "    print('-'*100)\n",
        "    if val_loss <= best_val_loss:\n",
        "        torch.save(model.state_dict(), 'best_model_state.bin')\n",
        "        best_val_loss = val_loss\n",
        "        patience_counter = 0\n",
        "    else:\n",
        "        patience_counter += 1\n",
        "    if patience_counter == 10:\n",
        "        print(\"Early stopping\")\n",
        "        break\n"
      ],
      "metadata": {
        "id": "97RMhSoMdsK7"
      },
      "execution_count": null,
      "outputs": []
    },
    {
      "cell_type": "code",
      "source": [
        "torch.cuda.empty_cache()"
      ],
      "metadata": {
        "id": "tv8LjHKNeQJJ"
      },
      "execution_count": null,
      "outputs": []
    },
    {
      "cell_type": "markdown",
      "source": [
        "# Load DischargeBERT"
      ],
      "metadata": {
        "id": "DVs3-LuIeQJJ"
      }
    },
    {
      "cell_type": "code",
      "source": [
        "# Initialize tokenizer and model\n",
        "tokenizer = BertTokenizer.from_pretrained('emilyalsentzer/Bio_Discharge_Summary_BERT')\n",
        "model = BertForSequenceClassification.from_pretrained('emilyalsentzer/Bio_Discharge_Summary_BERT', num_labels=2, hidden_dropout_prob=0.2,\n",
        "                                    attention_probs_dropout_prob=0.2).to('cuda')"
      ],
      "metadata": {
        "id": "olJtnQ18eQJJ"
      },
      "execution_count": null,
      "outputs": []
    },
    {
      "cell_type": "code",
      "source": [
        "# Training settings\n",
        "device = torch.device(\"cuda\" if torch.cuda.is_available() else \"cpu\")\n",
        "model = model.to(device)\n",
        "optimizer = AdamW(model.parameters(), lr=1e-5, weight_decay=0.01)\n",
        "total_steps = len(train_loader) * 200\n",
        "scheduler = get_linear_schedule_with_warmup(optimizer, num_warmup_steps=50, num_training_steps=total_steps)\n"
      ],
      "metadata": {
        "id": "c-RAL527eQJJ"
      },
      "execution_count": null,
      "outputs": []
    },
    {
      "cell_type": "code",
      "source": [
        "# Early stopping and training process\n",
        "best_val_loss = np.inf\n",
        "patience_counter = 0\n",
        "train_losses = []\n",
        "val_losses = []\n",
        "\n",
        "for epoch in range(200):\n",
        "    print(f'Epoch {epoch + 1}/{200}')\n",
        "    train_loss, train_report = train_epoch(model, train_loader, optimizer, device, scheduler)\n",
        "    val_loss, val_report = eval_model(model, val_loader, device)\n",
        "    train_losses.append(train_loss)\n",
        "    val_losses.append(val_loss)\n",
        "    print(f'Train loss {train_loss}, Training Classification Report:\\n{train_report}')\n",
        "    print(f'Val loss {val_loss}, Validation Classification Report:\\n{val_report}')\n",
        "\n",
        "    print('-'*100)\n",
        "    print('-'*100)\n",
        "    if val_loss <= best_val_loss:\n",
        "        torch.save(model.state_dict(), 'best_model_state.bin')\n",
        "        best_val_loss = val_loss\n",
        "        patience_counter = 0\n",
        "    else:\n",
        "        patience_counter += 1\n",
        "    if patience_counter == 10:\n",
        "        print(\"Early stopping\")\n",
        "        break\n"
      ],
      "metadata": {
        "id": "HcWrZ_HfeQJK"
      },
      "execution_count": null,
      "outputs": []
    },
    {
      "cell_type": "code",
      "source": [
        "torch.cuda.empty_cache()"
      ],
      "metadata": {
        "id": "YIjR4MlmgPH0"
      },
      "execution_count": null,
      "outputs": []
    },
    {
      "cell_type": "markdown",
      "source": [
        "# Load COReBERT"
      ],
      "metadata": {
        "id": "TzJ56MN3gPH9"
      }
    },
    {
      "cell_type": "code",
      "source": [
        "# Initialize tokenizer and model\n",
        "tokenizer = BertTokenizer.from_pretrained('bvanaken/CORe-clinical-outcome-biobert-v1')\n",
        "model = BertForSequenceClassification.from_pretrained('bvanaken/CORe-clinical-outcome-biobert-v1', num_labels=2, hidden_dropout_prob=0.2,\n",
        "                                    attention_probs_dropout_prob=0.2).to('cuda')"
      ],
      "metadata": {
        "id": "zQEP-ivDgPH9"
      },
      "execution_count": null,
      "outputs": []
    },
    {
      "cell_type": "code",
      "source": [
        "# Training settings\n",
        "device = torch.device(\"cuda\" if torch.cuda.is_available() else \"cpu\")\n",
        "model = model.to(device)\n",
        "optimizer = AdamW(model.parameters(), lr=1e-5, weight_decay=0.01)\n",
        "total_steps = len(train_loader) * 200\n",
        "scheduler = get_linear_schedule_with_warmup(optimizer, num_warmup_steps=50, num_training_steps=total_steps)\n"
      ],
      "metadata": {
        "id": "kWHC9xItgPH9"
      },
      "execution_count": null,
      "outputs": []
    },
    {
      "cell_type": "code",
      "source": [
        "# Early stopping and training process\n",
        "best_val_loss = np.inf\n",
        "patience_counter = 0\n",
        "train_losses = []\n",
        "val_losses = []\n",
        "\n",
        "for epoch in range(200):\n",
        "    print(f'Epoch {epoch + 1}/{200}')\n",
        "    train_loss, train_report = train_epoch(model, train_loader, optimizer, device, scheduler)\n",
        "    val_loss, val_report = eval_model(model, val_loader, device)\n",
        "    train_losses.append(train_loss)\n",
        "    val_losses.append(val_loss)\n",
        "    print(f'Train loss {train_loss}, Training Classification Report:\\n{train_report}')\n",
        "    print(f'Val loss {val_loss}, Validation Classification Report:\\n{val_report}')\n",
        "\n",
        "    print('-'*100)\n",
        "    print('-'*100)\n",
        "    if val_loss <= best_val_loss:\n",
        "        torch.save(model.state_dict(), 'best_model_state.bin')\n",
        "        best_val_loss = val_loss\n",
        "        patience_counter = 0\n",
        "    else:\n",
        "        patience_counter += 1\n",
        "    if patience_counter == 10:\n",
        "        print(\"Early stopping\")\n",
        "        break\n"
      ],
      "metadata": {
        "id": "RZPrpcgogPH9"
      },
      "execution_count": null,
      "outputs": []
    },
    {
      "cell_type": "code",
      "source": [
        "print(\"BERT: 87.10\")\n",
        "print(\"BioBERT: 83.87\")\n",
        "print(\"ClinicalBERT: 82.26\")\n",
        "print(\"DischargeBERT: 77.42\")\n",
        "print(\"COReBERT: 82.26\")"
      ],
      "metadata": {
        "id": "11xclzPbdjE4"
      },
      "execution_count": null,
      "outputs": []
    },
    {
      "cell_type": "markdown",
      "source": [
        "# Token statistics"
      ],
      "metadata": {
        "id": "IBCEtTUq-yEh"
      }
    },
    {
      "cell_type": "code",
      "source": [
        "# Tokenize the text and count the number of tokens\n",
        "df['token_count'] = df['text'].apply(lambda x: len(tokenizer.encode(x, add_special_tokens=True)))"
      ],
      "metadata": {
        "id": "ZvFwYpdV5r2z"
      },
      "execution_count": null,
      "outputs": []
    },
    {
      "cell_type": "code",
      "source": [
        "# Calculate statistics for token counts\n",
        "stats = df['token_count'].describe()\n",
        "\n",
        "# Printing the statistics\n",
        "print(\"Token Count Statistics:\")\n",
        "print(stats)\n"
      ],
      "metadata": {
        "id": "ntJNpDPa-0lF"
      },
      "execution_count": null,
      "outputs": []
    },
    {
      "cell_type": "code",
      "source": [
        "import matplotlib.pyplot as plt\n",
        "import seaborn as sns\n",
        "\n",
        "# Plot the distribution of transcription lengths\n",
        "plt.figure(figsize=(10, 6))\n",
        "sns.histplot(df['token_count'], bins=50, kde=True)\n",
        "plt.title('Distribution of Token Counts')\n",
        "plt.xlabel('Length of Tokens')\n",
        "plt.ylabel('Frequency')\n",
        "plt.show()\n"
      ],
      "metadata": {
        "id": "uTumd61r-5_9"
      },
      "execution_count": null,
      "outputs": []
    },
    {
      "cell_type": "code",
      "source": [],
      "metadata": {
        "id": "VBZXp38P_Hnu"
      },
      "execution_count": null,
      "outputs": []
    }
  ]
}